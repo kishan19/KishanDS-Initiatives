{
 "cells": [
  {
   "cell_type": "markdown",
   "metadata": {},
   "source": [
    "### Insights \n",
    "\n",
    "**PHASE 1**:\n",
    "\n",
    "- How effective was the DRS call in extending the survival at the crease?\n",
    "\n",
    "- No. of referrals innings wise\n",
    "\n",
    "- Who was the batting partner who has probably assited the most in DRS?\n",
    "\n",
    "**PHASE 2**:\n",
    "\n",
    "- How many recognized batsmen were left? And was there a missed opportunity due to DRS being recklessly taken earlier?**\n",
    "\n",
    "- Missed reviews by teams: Did # of remaining reviews have a say\n"
   ]
  },
  {
   "cell_type": "markdown",
   "metadata": {},
   "source": [
    "### Data points (Phase 1)\n",
    "-  Match in Series \n",
    "-  Series Name to produce facets \n",
    "-  Match Venue\n",
    "-  Match Date (Month_Year)\n",
    "-  Over of referral\n",
    "-  Innings of referral in game\n",
    "- Team taking review\n",
    "- Team Batting/Bowling\n",
    "- Umpire at time of review\n",
    "- Batsman at time of review\n",
    "- Outcome of review \n",
    "- Innings wise dismissal data\n",
    "- Active wicket partnership\n",
    "- Innings wise referral data (scraped from match notes, needs a bit of formatting)\n",
    "- Commentary of that particular referral ball\n",
    "\n",
    "\n",
    "### Data points (Phase 2)\n",
    "\n",
    "- no. of recognized batsman to come vs missed opportunities for them\n"
   ]
  },
  {
   "cell_type": "code",
   "execution_count": 1,
   "metadata": {},
   "outputs": [],
   "source": [
    "import requests"
   ]
  },
  {
   "cell_type": "code",
   "execution_count": 2,
   "metadata": {},
   "outputs": [],
   "source": [
    "cricinfo_match_base_url='https://www.espncricinfo.com/series/19430/commentary/1152846/england-vs-australia-1st-test-icc-world-test-championship-2019-2021'\n",
    "\n",
    "## To change innings, use ?innings=1/2/3/4"
   ]
  },
  {
   "cell_type": "code",
   "execution_count": 3,
   "metadata": {},
   "outputs": [],
   "source": [
    "cricinfo_match_notes_url='https://www.espncricinfo.com/series/19430/scorecard/1152846/england-vs-australia-1st-test-icc-world-test-championship-2019-2021'"
   ]
  },
  {
   "cell_type": "code",
   "execution_count": 4,
   "metadata": {},
   "outputs": [],
   "source": [
    "from bs4 import BeautifulSoup\n",
    "from selenium import webdriver\n",
    "\n",
    "from webdriver_manager.chrome import ChromeDriverManager\n",
    "\n",
    "chromedriver=\"C:/Users/k.shridhar/Documents/chromedriver.exe\"\n",
    "driver = webdriver.Chrome(executable_path=chromedriver)\n",
    "#url = \"https://www.espncricinfo.com/series/19430/commentary/1152846/england-vs-australia-1st-test-icc-world-test-championship-2019-2021\"\n",
    "\n",
    "driver.get(cricinfo_match_notes_url)\n",
    "\n",
    "cricinfo_matchnotes_soup = BeautifulSoup(driver.page_source, 'html.parser')\n",
    "\n",
    "# cricinfo_day3=BeautifulSoup(driver.find_elements_by_xpath('//*[@id=\"main-container\"]/div/div[3]/div[1]/article[2]/div/ul/li[3]/div[1]/p/a'), 'html.parser')\n",
    "\n",
    "m_notes=cricinfo_matchnotes_soup.find('h1',text='Match Notes')\n",
    "\n",
    "\n",
    "all_days=[d for d in m_notes.next_element.next.find_all('ul',{'class':'bulleted-list'})]\n",
    "\n",
    "all_days.reverse()\n",
    "\n",
    "all_notes=m_notes.next_element.next.find_all('li')\n",
    "\n",
    "driver.quit()\n"
   ]
  },
  {
   "cell_type": "code",
   "execution_count": 5,
   "metadata": {},
   "outputs": [],
   "source": [
    "# review_match_events=[i.text for i in all_notes if (\"Review\" in i.text and i.text.startswith(\"Over\")) or (\"innings\" in i.text)]"
   ]
  },
  {
   "cell_type": "code",
   "execution_count": 6,
   "metadata": {},
   "outputs": [],
   "source": [
    "# review_match_events"
   ]
  },
  {
   "cell_type": "code",
   "execution_count": 7,
   "metadata": {},
   "outputs": [],
   "source": [
    "close_of_play=cricinfo_matchnotes_soup.find('h1',text='Close of Play')"
   ]
  },
  {
   "cell_type": "code",
   "execution_count": 8,
   "metadata": {},
   "outputs": [
    {
     "data": {
      "text/html": [
       "<div>\n",
       "<style scoped>\n",
       "    .dataframe tbody tr th:only-of-type {\n",
       "        vertical-align: middle;\n",
       "    }\n",
       "\n",
       "    .dataframe tbody tr th {\n",
       "        vertical-align: top;\n",
       "    }\n",
       "\n",
       "    .dataframe thead th {\n",
       "        text-align: right;\n",
       "    }\n",
       "</style>\n",
       "<table border=\"1\" class=\"dataframe\">\n",
       "  <thead>\n",
       "    <tr style=\"text-align: right;\">\n",
       "      <th></th>\n",
       "      <th>Day</th>\n",
       "      <th>Team</th>\n",
       "    </tr>\n",
       "  </thead>\n",
       "  <tbody>\n",
       "    <tr>\n",
       "      <th>0</th>\n",
       "      <td>Day 1</td>\n",
       "      <td>England 1st</td>\n",
       "    </tr>\n",
       "    <tr>\n",
       "      <th>1</th>\n",
       "      <td>Day 2</td>\n",
       "      <td>England 1st</td>\n",
       "    </tr>\n",
       "    <tr>\n",
       "      <th>2</th>\n",
       "      <td>Day 3</td>\n",
       "      <td>Australia 2nd</td>\n",
       "    </tr>\n",
       "    <tr>\n",
       "      <th>3</th>\n",
       "      <td>Day 4</td>\n",
       "      <td>England 2nd</td>\n",
       "    </tr>\n",
       "    <tr>\n",
       "      <th>4</th>\n",
       "      <td>Day 5</td>\n",
       "      <td>England 2nd</td>\n",
       "    </tr>\n",
       "  </tbody>\n",
       "</table>\n",
       "</div>"
      ],
      "text/plain": [
       "     Day           Team\n",
       "0  Day 1    England 1st\n",
       "1  Day 2    England 1st\n",
       "2  Day 3  Australia 2nd\n",
       "3  Day 4    England 2nd\n",
       "4  Day 5    England 2nd"
      ]
     },
     "execution_count": 8,
     "metadata": {},
     "output_type": "execute_result"
    }
   ],
   "source": [
    "cop_notes=[cop.text for cop in close_of_play.next_element.next.find_all('li')]\n",
    "\n",
    "import pandas as pd\n",
    "\n",
    "day_list=[]\n",
    "end_team=[]\n",
    "for c in cop_notes:\n",
    "    day_list.append(c.split('-')[1].strip().title())\n",
    "    end_team.append(c.split('-')[2].split(\"innings\")[0].strip())\n",
    "\n",
    "day_cop=pd.DataFrame({\"Day\":day_list,\"Team\":end_team})\n",
    "day_cop  "
   ]
  },
  {
   "cell_type": "code",
   "execution_count": 9,
   "metadata": {},
   "outputs": [],
   "source": [
    "cricbuzz_innings_url='https://www.cricbuzz.com/live-cricket-scorecard/20715/eng-vs-aus-1st-test-the-ashes-2019'\n",
    "\n",
    "chromedriver=\"C:/Users/k.shridhar/Documents/chromedriver.exe\"\n",
    "driver = webdriver.Chrome(executable_path=chromedriver)\n",
    "\n",
    "driver.get(cricbuzz_innings_url)\n",
    "innings_soup = BeautifulSoup(driver.page_source, 'html.parser')\n",
    "\n",
    "driver.quit()\n",
    "\n",
    "innings_list=[innings.text.split('Innings')[0].strip() for innings in innings_soup.find_all('div',{'class':'cb-col cb-col-100 cb-scrd-hdr-rw'}) if innings.text!=\"Match Info\"]\n",
    "\n",
    "innings_list.reverse()"
   ]
  },
  {
   "cell_type": "code",
   "execution_count": 10,
   "metadata": {},
   "outputs": [],
   "source": [
    "from collections import defaultdict\n",
    "\n",
    "innings_reviews=defaultdict(list)\n",
    "day_wise_reviews=[a.text for a in all_days[0] if a.text.startswith(\"Over\") or \"innings\" in a.text]\n",
    "##Append from day2 onwards\n",
    "if len(all_days)>=2:\n",
    "    for ad in all_days[1:]:\n",
    "        daylist=[a.text for a in ad if a.text.startswith(\"Over\") or \"innings\" in a.text]\n",
    "        for d in daylist:\n",
    "            day_wise_reviews.append(d)\n",
    "\n",
    "idxs = [i for i,x in enumerate(day_wise_reviews) if 'innings' in x]\n",
    "start_end_idxs=list(map(list, zip(idxs, idxs[1:])))\n",
    "for s in start_end_idxs:\n",
    "    innings_reviews[day_wise_reviews[s[0]]]=day_wise_reviews[s[0]+1:s[1]]\n",
    "innings_reviews[day_wise_reviews[max(idxs)]]=day_wise_reviews[max(idxs)+1:]\n",
    "\n",
    "idf=pd.DataFrame.from_dict(innings_reviews,orient='index')\n",
    "idf.reset_index(inplace=True)\n",
    "idf.fillna('',inplace=True)\n",
    "innings_df=idf.melt(id_vars='index',value_name='reviews')\n",
    "\n",
    "innings_df.drop(columns='variable',inplace=True)\n",
    "innings_df.columns=['innings','reviews']\n",
    "innings_df=innings_df[innings_df.reviews!='']\n",
    "\n"
   ]
  },
  {
   "cell_type": "code",
   "execution_count": 11,
   "metadata": {},
   "outputs": [
    {
     "data": {
      "text/html": [
       "<div>\n",
       "<style scoped>\n",
       "    .dataframe tbody tr th:only-of-type {\n",
       "        vertical-align: middle;\n",
       "    }\n",
       "\n",
       "    .dataframe tbody tr th {\n",
       "        vertical-align: top;\n",
       "    }\n",
       "\n",
       "    .dataframe thead th {\n",
       "        text-align: right;\n",
       "    }\n",
       "</style>\n",
       "<table border=\"1\" class=\"dataframe\">\n",
       "  <thead>\n",
       "    <tr style=\"text-align: right;\">\n",
       "      <th></th>\n",
       "      <th>innings</th>\n",
       "      <th>reviews</th>\n",
       "    </tr>\n",
       "  </thead>\n",
       "  <tbody>\n",
       "    <tr>\n",
       "      <th>0</th>\n",
       "      <td>Australia 1st innings</td>\n",
       "      <td>Over 3.1: Review by England (Bowling), Umpire ...</td>\n",
       "    </tr>\n",
       "    <tr>\n",
       "      <th>1</th>\n",
       "      <td>England 1st innings</td>\n",
       "      <td>Over 20.6: Review by England (Batting), Umpire...</td>\n",
       "    </tr>\n",
       "    <tr>\n",
       "      <th>2</th>\n",
       "      <td>Australia 2nd innings</td>\n",
       "      <td>Over 2.6: Review by England (Bowling), Umpire ...</td>\n",
       "    </tr>\n",
       "    <tr>\n",
       "      <th>3</th>\n",
       "      <td>England 2nd innings</td>\n",
       "      <td>Over 12.6: Review by England (Batting), Umpire...</td>\n",
       "    </tr>\n",
       "    <tr>\n",
       "      <th>4</th>\n",
       "      <td>Australia 1st innings</td>\n",
       "      <td>Over 14.2: Review by England (Bowling), Umpire...</td>\n",
       "    </tr>\n",
       "    <tr>\n",
       "      <th>5</th>\n",
       "      <td>England 1st innings</td>\n",
       "      <td>Over 33.2: Review by England (Batting), Umpire...</td>\n",
       "    </tr>\n",
       "    <tr>\n",
       "      <th>6</th>\n",
       "      <td>Australia 2nd innings</td>\n",
       "      <td>Over 74.5: Review by England (Bowling), Umpire...</td>\n",
       "    </tr>\n",
       "    <tr>\n",
       "      <th>7</th>\n",
       "      <td>England 2nd innings</td>\n",
       "      <td>Over 16.4: Review by England (Batting), Umpire...</td>\n",
       "    </tr>\n",
       "    <tr>\n",
       "      <th>8</th>\n",
       "      <td>Australia 1st innings</td>\n",
       "      <td>Over 32.4: Review by Australia (Batting), Umpi...</td>\n",
       "    </tr>\n",
       "    <tr>\n",
       "      <th>9</th>\n",
       "      <td>England 1st innings</td>\n",
       "      <td>Over 82.2: Review by Australia (Bowling), Umpi...</td>\n",
       "    </tr>\n",
       "    <tr>\n",
       "      <th>10</th>\n",
       "      <td>Australia 2nd innings</td>\n",
       "      <td>Over 84.2: Review by Australia (Batting), Umpi...</td>\n",
       "    </tr>\n",
       "    <tr>\n",
       "      <th>11</th>\n",
       "      <td>England 2nd innings</td>\n",
       "      <td>Over 25.5: Review by England (Batting), Umpire...</td>\n",
       "    </tr>\n",
       "    <tr>\n",
       "      <th>12</th>\n",
       "      <td>Australia 1st innings</td>\n",
       "      <td>Over 33.5: Review by Australia (Batting), Umpi...</td>\n",
       "    </tr>\n",
       "    <tr>\n",
       "      <th>14</th>\n",
       "      <td>Australia 2nd innings</td>\n",
       "      <td>Over 97.6: Review by England (Bowling), Umpire...</td>\n",
       "    </tr>\n",
       "    <tr>\n",
       "      <th>15</th>\n",
       "      <td>England 2nd innings</td>\n",
       "      <td>Over 28.5: Review by Australia (Bowling), Umpi...</td>\n",
       "    </tr>\n",
       "    <tr>\n",
       "      <th>16</th>\n",
       "      <td>Australia 1st innings</td>\n",
       "      <td>Over 34.6: Review by England (Bowling), Umpire...</td>\n",
       "    </tr>\n",
       "    <tr>\n",
       "      <th>19</th>\n",
       "      <td>England 2nd innings</td>\n",
       "      <td>Over 36.6: Review by England (Batting), Umpire...</td>\n",
       "    </tr>\n",
       "    <tr>\n",
       "      <th>20</th>\n",
       "      <td>Australia 1st innings</td>\n",
       "      <td>Over 46.1: Review by Australia (Batting), Umpi...</td>\n",
       "    </tr>\n",
       "    <tr>\n",
       "      <th>23</th>\n",
       "      <td>England 2nd innings</td>\n",
       "      <td>Over 44.4: Review by Australia (Bowling), Umpi...</td>\n",
       "    </tr>\n",
       "    <tr>\n",
       "      <th>24</th>\n",
       "      <td>Australia 1st innings</td>\n",
       "      <td>Over 74.2: Review by England (Bowling), Umpire...</td>\n",
       "    </tr>\n",
       "  </tbody>\n",
       "</table>\n",
       "</div>"
      ],
      "text/plain": [
       "                  innings                                            reviews\n",
       "0   Australia 1st innings  Over 3.1: Review by England (Bowling), Umpire ...\n",
       "1     England 1st innings  Over 20.6: Review by England (Batting), Umpire...\n",
       "2   Australia 2nd innings  Over 2.6: Review by England (Bowling), Umpire ...\n",
       "3     England 2nd innings  Over 12.6: Review by England (Batting), Umpire...\n",
       "4   Australia 1st innings  Over 14.2: Review by England (Bowling), Umpire...\n",
       "5     England 1st innings  Over 33.2: Review by England (Batting), Umpire...\n",
       "6   Australia 2nd innings  Over 74.5: Review by England (Bowling), Umpire...\n",
       "7     England 2nd innings  Over 16.4: Review by England (Batting), Umpire...\n",
       "8   Australia 1st innings  Over 32.4: Review by Australia (Batting), Umpi...\n",
       "9     England 1st innings  Over 82.2: Review by Australia (Bowling), Umpi...\n",
       "10  Australia 2nd innings  Over 84.2: Review by Australia (Batting), Umpi...\n",
       "11    England 2nd innings  Over 25.5: Review by England (Batting), Umpire...\n",
       "12  Australia 1st innings  Over 33.5: Review by Australia (Batting), Umpi...\n",
       "14  Australia 2nd innings  Over 97.6: Review by England (Bowling), Umpire...\n",
       "15    England 2nd innings  Over 28.5: Review by Australia (Bowling), Umpi...\n",
       "16  Australia 1st innings  Over 34.6: Review by England (Bowling), Umpire...\n",
       "19    England 2nd innings  Over 36.6: Review by England (Batting), Umpire...\n",
       "20  Australia 1st innings  Over 46.1: Review by Australia (Batting), Umpi...\n",
       "23    England 2nd innings  Over 44.4: Review by Australia (Bowling), Umpi...\n",
       "24  Australia 1st innings  Over 74.2: Review by England (Bowling), Umpire..."
      ]
     },
     "execution_count": 11,
     "metadata": {},
     "output_type": "execute_result"
    }
   ],
   "source": [
    "innings_df"
   ]
  },
  {
   "cell_type": "code",
   "execution_count": 12,
   "metadata": {},
   "outputs": [],
   "source": [
    "# over=innings_df.reviews[0].split('Over')[1].split(':')[0].strip()\n",
    "\n",
    "# review_team=innings_df.reviews[0].split(':')[1].strip().split('by ')[1].split(',')[0]\n",
    "\n",
    "# review_umpire=innings_df.reviews[0].split(':')[1].strip().split('Umpire - ')[1].split(',')[0]\n",
    "\n",
    "# review_batsman=innings_df.reviews[0].split(':')[1].strip().split('Batsman -')[1].strip().split('(')[0].strip()\n",
    "\n",
    "# review_outcome=innings_df.reviews[0].split(':')[1].strip().split('Batsman -')[1].strip().split('(')[1].split(')')[0].strip()\n",
    "\n"
   ]
  },
  {
   "cell_type": "code",
   "execution_count": 13,
   "metadata": {},
   "outputs": [],
   "source": [
    "over=[]\n",
    "review_team=[]\n",
    "review_umpire=[]\n",
    "review_batsman=[]\n",
    "review_outcome=[]\n",
    "for review in innings_df.reviews:\n",
    "    over.append(review.split('Over')[1].split(':')[0].strip())\n",
    "    review_team.append(review.split(':')[1].strip().split('by ')[1].split(',')[0])\n",
    "    review_umpire.append(review.split(':')[1].strip().split('Umpire - ')[1].split(',')[0])\n",
    "    review_batsman.append(review.split(':')[1].strip().split('Batsman -')[1].strip().split('(')[0].strip())\n",
    "    review_outcome.append(review.split(':')[1].strip().split('Batsman -')[1].strip().split('(')[1].split(')')[0].strip())\n",
    "    "
   ]
  },
  {
   "cell_type": "code",
   "execution_count": 14,
   "metadata": {},
   "outputs": [],
   "source": [
    "innings_df['Over']=over\n",
    "innings_df['Review_team']=review_team\n",
    "innings_df['Review_batsman']=review_batsman\n",
    "innings_df['Review_umpire']=review_umpire\n",
    "innings_df['Review_outcome']=review_outcome\n",
    "innings_df['Umpires_call']=innings_df['Review_outcome'].apply(lambda x:\"Umpire\" in x)"
   ]
  },
  {
   "cell_type": "code",
   "execution_count": 16,
   "metadata": {},
   "outputs": [],
   "source": [
    "cricbuzz_match_url='https://www.cricbuzz.com/cricket-scores/20715/eng-vs-aus-1st-test-the-ashes-2019'\n",
    "\n",
    "chromedriver=\"C:/Users/k.shridhar/Documents/chromedriver.exe\"\n",
    "driver = webdriver.Chrome(executable_path=chromedriver)\n",
    "\n",
    "driver.get(cricbuzz_match_url)\n",
    "cricbuzz_match_soup = BeautifulSoup(driver.page_source, 'html.parser')\n",
    "\n",
    "# m_notes=soup.find('h1',text='Match Notes')\n",
    "\n",
    "# all_notes=m_notes.next_element.next.find_all('li')\n",
    "\n",
    "driver.quit()"
   ]
  },
  {
   "cell_type": "code",
   "execution_count": 17,
   "metadata": {},
   "outputs": [],
   "source": [
    "commentary_text=[c.text for c in cricbuzz_match_soup.find_all('p',{'class':'cb-col cb-col-90 cb-com-ln'})]"
   ]
  },
  {
   "cell_type": "code",
   "execution_count": 18,
   "metadata": {},
   "outputs": [],
   "source": [
    "over_text=[o.text for o in cricbuzz_match_soup.find_all('span',{'cb-col cb-col-8 text-bold'})]"
   ]
  },
  {
   "cell_type": "code",
   "execution_count": 19,
   "metadata": {},
   "outputs": [],
   "source": [
    "inngs_breaks=[index for index, value in enumerate(over_text) if value == '0.1']"
   ]
  },
  {
   "cell_type": "markdown",
   "metadata": {},
   "source": [
    "### Fall of wicket eventually to map longevity due to review"
   ]
  },
  {
   "cell_type": "code",
   "execution_count": 20,
   "metadata": {},
   "outputs": [],
   "source": [
    "fow_text=[fow.text for fow in cricinfo_matchnotes_soup.find_all('div',{\"class\":\"wrap dnb\"}) if \"Fall of wickets:\" in fow.text]\n"
   ]
  },
  {
   "cell_type": "code",
   "execution_count": 21,
   "metadata": {},
   "outputs": [],
   "source": [
    "innings_fow=defaultdict(list)\n",
    "for a,inn in enumerate(reversed(innings_list)):\n",
    "    wicket_overs=[f.split(')')[0].strip().split(' ')[0] for i,f in enumerate(fow_text[a].split(':')[1].strip().split(',')) if i%2!=0]\n",
    "    innings_fow[inn+' innings']=[f.split(')')[0].strip().split(' ')[0] for i,f in enumerate(fow_text[a].split(':')[1].strip().split(',')) if i%2!=0]\n",
    "\n",
    "#[f.split(')')[0].strip() for i,f in enumerate(fow_text[0].split(':')[1].strip().split(',')) if i%2!=0]"
   ]
  },
  {
   "cell_type": "code",
   "execution_count": 22,
   "metadata": {},
   "outputs": [],
   "source": [
    "innings_fow_df=pd.DataFrame.from_dict(innings_fow,orient='index')\n",
    "innings_fow_df.reset_index(inplace=True)\n",
    "innings_fow_df.fillna('',inplace=True)\n",
    "innings_fow_df=innings_fow_df.melt(id_vars='index',value_name='wickets')\n",
    "innings_fow_df['variable']=innings_fow_df['variable']+1\n",
    "innings_fow_df.columns=['innings','active_partnership','Over']\n",
    "innings_fow_df=innings_fow_df[innings_fow_df.Over!='']"
   ]
  },
  {
   "cell_type": "code",
   "execution_count": 23,
   "metadata": {},
   "outputs": [],
   "source": [
    "pbreak_idxs=pd.merge(innings_df,innings_fow_df,on=['innings','Over'],how='inner',left_index=True).index"
   ]
  },
  {
   "cell_type": "code",
   "execution_count": 24,
   "metadata": {},
   "outputs": [],
   "source": [
    "innings_df['Partnership_broken']=False\n",
    "innings_df.loc[pbreak_idxs,'Partnership_broken']=True"
   ]
  },
  {
   "cell_type": "code",
   "execution_count": 25,
   "metadata": {},
   "outputs": [],
   "source": [
    "current_innings=[]\n",
    "current_commentary=[]\n",
    "current_over=[]\n",
    "\n",
    "end=0\n",
    "for i,b in enumerate(inngs_breaks):\n",
    "    start=b\n",
    "    for on,o in enumerate(over_text[end:start+1]):\n",
    "        current_innings.append(innings_list[i]+\" innings\")\n",
    "        current_over.append(o)\n",
    "        current_commentary.append(commentary_text[end:start+1][on])\n",
    "    end=start+1"
   ]
  },
  {
   "cell_type": "code",
   "execution_count": 26,
   "metadata": {},
   "outputs": [],
   "source": [
    "cricbuzz_commentary_df=pd.DataFrame({'innings':current_innings,'Over':current_over,'Commentary':current_commentary})"
   ]
  },
  {
   "cell_type": "code",
   "execution_count": 27,
   "metadata": {},
   "outputs": [
    {
     "data": {
      "text/html": [
       "<div>\n",
       "<style scoped>\n",
       "    .dataframe tbody tr th:only-of-type {\n",
       "        vertical-align: middle;\n",
       "    }\n",
       "\n",
       "    .dataframe tbody tr th {\n",
       "        vertical-align: top;\n",
       "    }\n",
       "\n",
       "    .dataframe thead th {\n",
       "        text-align: right;\n",
       "    }\n",
       "</style>\n",
       "<table border=\"1\" class=\"dataframe\">\n",
       "  <thead>\n",
       "    <tr style=\"text-align: right;\">\n",
       "      <th></th>\n",
       "      <th>innings</th>\n",
       "      <th>Over</th>\n",
       "      <th>Commentary</th>\n",
       "    </tr>\n",
       "  </thead>\n",
       "  <tbody>\n",
       "    <tr>\n",
       "      <th>0</th>\n",
       "      <td>England 2nd innings</td>\n",
       "      <td>52.3</td>\n",
       "      <td>Pat Cummins to Woakes, out Caught by Smith!! T...</td>\n",
       "    </tr>\n",
       "    <tr>\n",
       "      <th>1</th>\n",
       "      <td>England 2nd innings</td>\n",
       "      <td>52.2</td>\n",
       "      <td>Pat Cummins to Woakes, no run, quite an ugly p...</td>\n",
       "    </tr>\n",
       "    <tr>\n",
       "      <th>2</th>\n",
       "      <td>England 2nd innings</td>\n",
       "      <td>52.1</td>\n",
       "      <td>Pat Cummins to Woakes, no run, tummy-lined. Wo...</td>\n",
       "    </tr>\n",
       "    <tr>\n",
       "      <th>3</th>\n",
       "      <td>England 2nd innings</td>\n",
       "      <td>51.6</td>\n",
       "      <td>Lyon to Anderson, FOUR, talk about this safe e...</td>\n",
       "    </tr>\n",
       "    <tr>\n",
       "      <th>4</th>\n",
       "      <td>England 2nd innings</td>\n",
       "      <td>51.5</td>\n",
       "      <td>Lyon to Woakes, 1 run, another dance down, thi...</td>\n",
       "    </tr>\n",
       "  </tbody>\n",
       "</table>\n",
       "</div>"
      ],
      "text/plain": [
       "               innings  Over  \\\n",
       "0  England 2nd innings  52.3   \n",
       "1  England 2nd innings  52.2   \n",
       "2  England 2nd innings  52.1   \n",
       "3  England 2nd innings  51.6   \n",
       "4  England 2nd innings  51.5   \n",
       "\n",
       "                                          Commentary  \n",
       "0  Pat Cummins to Woakes, out Caught by Smith!! T...  \n",
       "1  Pat Cummins to Woakes, no run, quite an ugly p...  \n",
       "2  Pat Cummins to Woakes, no run, tummy-lined. Wo...  \n",
       "3  Lyon to Anderson, FOUR, talk about this safe e...  \n",
       "4  Lyon to Woakes, 1 run, another dance down, thi...  "
      ]
     },
     "execution_count": 27,
     "metadata": {},
     "output_type": "execute_result"
    }
   ],
   "source": [
    "cricbuzz_commentary_df.head()"
   ]
  },
  {
   "cell_type": "code",
   "execution_count": 33,
   "metadata": {},
   "outputs": [],
   "source": [
    "page_url='https://www.espncricinfo.com/scores/series/19430/season/2019/icc-world-test-championship'\n",
    "\n",
    "r1=requests.get(page_url)\n",
    "bs_main=BeautifulSoup(r1.text,'html.parser')\n",
    "urllist=[]\n",
    "for link in bs_main.find_all('a',href=True,text='SCORECARD'):\n",
    "    urllist.append('https://www.espncricinfo.com'+link['href'])"
   ]
  },
  {
   "cell_type": "code",
   "execution_count": 28,
   "metadata": {},
   "outputs": [],
   "source": [
    "innings_state=pd.merge(cricbuzz_commentary_df,innings_fow_df,on=['innings','Over'],how='left').ffill()"
   ]
  },
  {
   "cell_type": "code",
   "execution_count": 29,
   "metadata": {},
   "outputs": [],
   "source": [
    "reviews_match=pd.merge(innings_state,innings_df,how='left')\n",
    "reviews_match.fillna('',inplace=True)"
   ]
  },
  {
   "cell_type": "code",
   "execution_count": 31,
   "metadata": {},
   "outputs": [],
   "source": [
    "# reviews_match['match']=urllist[0].split('/')[-1]\n",
    "\n",
    "reviews_match['match']=innings_soup.find_all('div',{'class':'cb-col cb-col-73'})[0].text.strip()\n"
   ]
  },
  {
   "cell_type": "code",
   "execution_count": 32,
   "metadata": {},
   "outputs": [],
   "source": [
    "reviews_match.to_csv('reviews_match.csv',index=False)"
   ]
  }
 ],
 "metadata": {
  "kernelspec": {
   "display_name": "Python 3",
   "language": "python",
   "name": "python3"
  },
  "language_info": {
   "codemirror_mode": {
    "name": "ipython",
    "version": 3
   },
   "file_extension": ".py",
   "mimetype": "text/x-python",
   "name": "python",
   "nbconvert_exporter": "python",
   "pygments_lexer": "ipython3",
   "version": "3.6.8"
  }
 },
 "nbformat": 4,
 "nbformat_minor": 2
}
