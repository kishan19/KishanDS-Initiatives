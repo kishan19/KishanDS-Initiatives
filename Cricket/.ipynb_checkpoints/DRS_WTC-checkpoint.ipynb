{
 "cells": [
  {
   "cell_type": "markdown",
   "metadata": {},
   "source": [
    "## A study to understand how teams, players and umpires have used referrals in the World Test Championship"
   ]
  },
  {
   "cell_type": "markdown",
   "metadata": {},
   "source": [
    "### Possible insights desired\n",
    "\n",
    "**PHASE 1**:\n",
    "\n",
    "- How effective was the DRS call in extending the survival at the crease?\n",
    "\n",
    "- No. of referrals innings wise\n",
    "\n",
    "- Who was the batting partner who has probably assited the most in DRS?\n",
    "\n",
    "**PHASE 2**:\n",
    "\n",
    "- How many recognized batsmen were left? And was there a missed opportunity due to DRS being recklessly taken earlier?**\n",
    "\n",
    "- Missed reviews by teams: Did # of remaining reviews have a say\n"
   ]
  },
  {
   "cell_type": "markdown",
   "metadata": {},
   "source": [
    "### Data points collected (Phase 1)\n",
    "-  Match in Series \n",
    "-  Series Name to produce facets \n",
    "-  Match Venue\n",
    "-  Match Date (Month_Year)\n",
    "-  Over of referral\n",
    "-  Innings of referral in game\n",
    "- Team taking review\n",
    "- Team Batting/Bowling\n",
    "- Umpire at time of review\n",
    "- Batsman at time of review\n",
    "- Outcome of review \n",
    "- Innings wise dismissal data\n",
    "- Active wicket partnership\n",
    "- Innings wise referral data (scraped from match notes, needs a bit of formatting)\n",
    "- Commentary of that particular referral ball\n",
    "\n",
    "\n",
    "### Data points (Phase 2)\n",
    "\n",
    "- no. of recognized batsman to come vs missed opportunities for them\n"
   ]
  },
  {
   "cell_type": "markdown",
   "metadata": {},
   "source": [
    "### Required libraries "
   ]
  },
  {
   "cell_type": "code",
   "execution_count": 40,
   "metadata": {},
   "outputs": [],
   "source": [
    "import requests\n",
    "from bs4 import BeautifulSoup\n",
    "from selenium import webdriver\n",
    "from webdriver_manager.chrome import ChromeDriverManager\n",
    "import pandas as pd\n",
    "from collections import defaultdict"
   ]
  },
  {
   "cell_type": "markdown",
   "metadata": {},
   "source": [
    "### Chromedriver initiatilisation for Selenium \n",
    "\n",
    "https://dev.to/razgandeanu/selenium-cheat-sheet-9lc"
   ]
  },
  {
   "cell_type": "code",
   "execution_count": 41,
   "metadata": {},
   "outputs": [],
   "source": [
    "##Path of chromedriver\n",
    "chromedriver=\"C:/Users/k.shridhar/Documents/chromedriver.exe\""
   ]
  },
  {
   "cell_type": "markdown",
   "metadata": {},
   "source": [
    "### Scrape cricinfo match notes for DRS events"
   ]
  },
  {
   "cell_type": "code",
   "execution_count": 42,
   "metadata": {},
   "outputs": [],
   "source": [
    "def scrape_cricinfo_match_notes(cricinfo_match_notes_url):\n",
    "    '''Function to scrape Cricinfo match notes given a match URL. Returns soup of match notes for a particular match'''\n",
    "    driver = webdriver.Chrome(executable_path=chromedriver)\n",
    "    driver.get(cricinfo_match_notes_url)\n",
    "    cricinfo_matchnotes_soup = BeautifulSoup(driver.page_source, 'html.parser')\n",
    "    driver.quit()\n",
    "    return cricinfo_matchnotes_soup\n",
    "    "
   ]
  },
  {
   "cell_type": "markdown",
   "metadata": {},
   "source": [
    "### Process cricinfo match notes to obtain day wise referrals with outcome\n"
   ]
  },
  {
   "cell_type": "code",
   "execution_count": 43,
   "metadata": {},
   "outputs": [],
   "source": [
    "def process_cricinfo_match_notes(cricinfo_matchnotes_soup):\n",
    "    '''Process the information from the cricinfo matchnotes soup and obtain day wise referral information'''\n",
    "    m_notes=cricinfo_matchnotes_soup.find('h1',text='Match Notes')\n",
    "    all_days=[d for d in m_notes.next_element.next.find_all('ul',{'class':'bulleted-list'})]\n",
    "    all_days.reverse()\n",
    "    return all_days\n",
    "    "
   ]
  },
  {
   "cell_type": "markdown",
   "metadata": {},
   "source": [
    "### Bucket match wise referral information according to order of innings in match\n",
    "\n",
    "\n",
    "Match notes are of this format, so parse notes in the order of days, whenever a new innings begins, bucket all referrals associated under it. \n",
    "\n",
    "![alt text](./reports/C1.png)"
   ]
  },
  {
   "cell_type": "code",
   "execution_count": 44,
   "metadata": {},
   "outputs": [],
   "source": [
    "def create_innings_df(all_days):\n",
    "    '''Process list of day wise reviews andreturn a neater dataframe'''\n",
    "    innings_list=[] \n",
    "    innings_reviews=defaultdict(list)\n",
    "    innings_list.append([a.text for a in all_days[0] if \"innings\" in a.text and len(a.text)<=30])\n",
    "    ##There are instances where cricinfo match notes has the word 'innings' which might not be due to an innings beginning\n",
    "    \n",
    "    day_wise_reviews=[a.text for a in all_days[0] if a.text.startswith(\"Over\") or \"innings\" in a.text]\n",
    "    ##Append from day2 onwards to the day 1 list\n",
    "    \n",
    "    if len(all_days)>=2:\n",
    "        for ad in all_days[1:]:\n",
    "            daylist=[a.text for a in ad if a.text.startswith(\"Over\") or \"innings\" in a.text]\n",
    "            innings_list.append([a.text for a in ad if \"innings\" in a.text and len(a.text)<=30])\n",
    "            for d in daylist:\n",
    "                day_wise_reviews.append(d)\n",
    "    \n",
    "    idxs = [i for i,x in enumerate(day_wise_reviews) if 'innings' in x]\n",
    "    start_end_idxs=list(map(list, zip(idxs, idxs[1:])))\n",
    "    for s in start_end_idxs:\n",
    "        innings_reviews[day_wise_reviews[s[0]]]=day_wise_reviews[s[0]+1:s[1]]\n",
    "    innings_reviews[day_wise_reviews[max(idxs)]]=day_wise_reviews[max(idxs)+1:]\n",
    "    \n",
    "    ##Make the innings_wise_reviews dictionary to dataframe\n",
    "    \n",
    "    idf=pd.DataFrame.from_dict(innings_reviews,orient='index')\n",
    "    idf.reset_index(inplace=True)\n",
    "    idf.fillna('',inplace=True)\n",
    "    innings_df=idf.melt(id_vars='index',value_name='reviews')\n",
    "    \n",
    "    ##In this case, the variable column does not add any value. Hence it can be dropped\n",
    "    innings_df.drop(columns='variable',inplace=True) \n",
    "    innings_df.columns=['innings','reviews']\n",
    "    innings_df=innings_df[innings_df.reviews!='']\n",
    "    \n",
    "    ###Augment Innings_df with the referral notes\n",
    "    \n",
    "    over=[]\n",
    "    review_team=[]\n",
    "    review_umpire=[]\n",
    "    review_batsman=[]\n",
    "    review_outcome=[]\n",
    "    \n",
    "    \n",
    "    for review in innings_df.reviews:\n",
    "        over.append(review.split('Over')[1].split(':')[0].strip())\n",
    "        review_team.append(review.split(':')[1].strip().split('by ')[1].split(',')[0])\n",
    "        review_umpire.append(review.split(':')[1].strip().split('Umpire - ')[1].split(',')[0])\n",
    "        review_batsman.append(review.split(':')[1].strip().split('Batsman -')[1].strip().split('(')[0].strip())\n",
    "        review_outcome.append(review.split(':')[1].strip().split('Batsman -')[1].strip().split('(')[1].split(')')[0].strip())\n",
    "\n",
    "    innings_df['Over']=over\n",
    "    innings_df['Review_team']=review_team\n",
    "    innings_df['Review_batsman']=review_batsman\n",
    "    innings_df['Review_umpire']=review_umpire\n",
    "    innings_df['Review_outcome']=review_outcome\n",
    "    innings_df['Umpires_call']=innings_df['Review_outcome'].apply(lambda x:\"Umpire\" in x)\n",
    "    innings_df['index']=range(len(innings_df.reviews))\n",
    "    innings_list_updated=[]\n",
    "    for i in innings_list:\n",
    "        if(i):\n",
    "            for a in range(len(i)):\n",
    "                innings_list_updated.append(i[a])\n",
    "            \n",
    "    ##Remove duplicates if any, from innings list \n",
    "    \n",
    "    innings_list_updated=list(dict.fromkeys(innings_list_updated))\n",
    "    innings_list_updated.reverse()\n",
    "    \n",
    "    innings_df.set_index('index',inplace=True,drop=False)\n",
    "    return innings_df,innings_list_updated\n"
   ]
  },
  {
   "cell_type": "markdown",
   "metadata": {},
   "source": [
    "### Map break in partnerships to referral events "
   ]
  },
  {
   "cell_type": "code",
   "execution_count": 45,
   "metadata": {},
   "outputs": [],
   "source": [
    "def analyze_partnership_breaks(cricinfo_matchnotes_soup,innings_df,innings_list):\n",
    "    '''Analyze break in partnerships using Fall of wicket data and augment innings_df'''\n",
    "    fow_text=[fow.text for fow in cricinfo_matchnotes_soup.find_all('div',{\"class\":\"wrap dnb\"}) if \"Fall of wickets:\" in fow.text]\n",
    "    innings_fow=defaultdict(list)\n",
    "    for a,inn in enumerate(reversed(innings_list)):\n",
    "        innings_fow[inn]=[f.split(')')[0].strip().split(' ')[0] for i,f in enumerate(fow_text[a].split(':')[1].strip().split(',')) if i%2!=0]\n",
    "    \n",
    "    innings_fow_df=pd.DataFrame.from_dict(innings_fow,orient='index')\n",
    "    innings_fow_df.reset_index(inplace=True)\n",
    "    innings_fow_df.fillna('',inplace=True)\n",
    "    innings_fow_df=innings_fow_df.melt(id_vars='index',value_name='wickets')\n",
    "    ##In this case, the variable refers to the fall of wicket. \n",
    "    \n",
    "    innings_fow_df['variable']=innings_fow_df['variable']+1\n",
    "    innings_fow_df.columns=['innings','active_partnership','Over']\n",
    "    innings_fow_df=innings_fow_df[innings_fow_df.Over!='']\n",
    "    pbreak_innings=pd.merge(innings_df,innings_fow_df,on=['innings','Over'],how='inner')['index']\n",
    "    innings_df['Partnership_broken']=False\n",
    "    innings_df.loc[pbreak_innings,'Partnership_broken']=True\n",
    "    return innings_df,innings_fow_df\n",
    "\n",
    "\n"
   ]
  },
  {
   "cell_type": "markdown",
   "metadata": {},
   "source": [
    "### Augment every ball with Cricbuzz commentary (for future use cases)"
   ]
  },
  {
   "cell_type": "code",
   "execution_count": 46,
   "metadata": {},
   "outputs": [],
   "source": [
    "def parse_cricbuzz_commentary(cricbuzz_match_url):\n",
    "    '''Parse ball by ball commentary from Cricbuzz match URL'''\n",
    "    driver = webdriver.Chrome(executable_path=chromedriver)\n",
    "    driver.get(cricbuzz_match_url)\n",
    "    cricbuzz_match_soup = BeautifulSoup(driver.page_source, 'html.parser')\n",
    "    driver.quit()\n",
    "    return cricbuzz_match_soup\n"
   ]
  },
  {
   "cell_type": "markdown",
   "metadata": {},
   "source": [
    "### Process cricbuzz commentary to map innings and Over"
   ]
  },
  {
   "cell_type": "code",
   "execution_count": 47,
   "metadata": {},
   "outputs": [],
   "source": [
    "def process_cricbuzz_commentary(cricbuzz_match_soup,innings_list):\n",
    "    '''Process cricbuzz soup and create cricbuzz commentary dataframe'''\n",
    "    commentary_text=[c.text for c in cricbuzz_match_soup.find_all('p',{'class':'cb-col cb-col-90 cb-com-ln'})]\n",
    "    over_text=[o.text for o in cricbuzz_match_soup.find_all('span',{'cb-col cb-col-8 text-bold'})]\n",
    "    inngs_breaks=[index for index, value in enumerate(over_text) if value == '0.1']\n",
    "    current_innings=[]\n",
    "    current_commentary=[]\n",
    "    current_over=[]\n",
    "    end=0\n",
    "    for i,b in enumerate(inngs_breaks):\n",
    "        start=b\n",
    "        for on,o in enumerate(over_text[end:start+1]):\n",
    "            current_innings.append(innings_list[i])\n",
    "            current_over.append(o)\n",
    "            current_commentary.append(commentary_text[end:start+1][on])\n",
    "        end=start+1\n",
    "    cricbuzz_commentary_df=pd.DataFrame({'innings':current_innings,'Over':current_over,'Commentary':current_commentary})\n",
    "    return cricbuzz_commentary_df\n"
   ]
  },
  {
   "cell_type": "markdown",
   "metadata": {},
   "source": [
    "### Compile all tables"
   ]
  },
  {
   "cell_type": "code",
   "execution_count": 48,
   "metadata": {},
   "outputs": [],
   "source": [
    "##SNIPPET TO EXTRACT ALL WTC SCORECARD URLS OF CRICINFO\n",
    "\n",
    "# page_url='https://www.espncricinfo.com/scores/series/19430/season/2019/icc-world-test-championship'\n",
    "# r1=requests.get(page_url)\n",
    "# bs_main=BeautifulSoup(r1.text,'html.parser')\n",
    "# urllist=[]\n",
    "# for link in bs_main.find_all('a',href=True,text='SCORECARD'):\n",
    "#     urllist.append('https://www.espncricinfo.com'+link['href'])\n",
    "# pd.DataFrame(urllist).to_csv('url.csv')\n"
   ]
  },
  {
   "cell_type": "code",
   "execution_count": 49,
   "metadata": {},
   "outputs": [],
   "source": [
    "def compile_referral_data(cricinfo_match_notes_url,cricbuzz_match_url):\n",
    "    '''Compile all data from given cricinfo match notes url and cricbuzz match URL'''\n",
    "    cricinfo_matchnotes_soup=scrape_cricinfo_match_notes(cricinfo_match_notes_url)\n",
    "    cricbuzz_match_soup=parse_cricbuzz_commentary(cricbuzz_match_url)\n",
    "    all_days=process_cricinfo_match_notes(cricinfo_matchnotes_soup)\n",
    "    innings_df,innings_list=create_innings_df(all_days)\n",
    "    innings_df_updated,innings_fow_df=analyze_partnership_breaks(cricinfo_matchnotes_soup,innings_df,innings_list)\n",
    "    cricbuzz_commentary_df=process_cricbuzz_commentary(cricbuzz_match_soup,innings_list)\n",
    "    innings_state=pd.merge(cricbuzz_commentary_df,innings_fow_df,on=['innings','Over'],how='left').ffill()\n",
    "    last_fow_idx=min(innings_state[~pd.isnull(innings_state.active_partnership)].index)\n",
    "    ##Process FOW for innings which were declared or not all out or won\n",
    "    if last_fow_idx>=1:\n",
    "        last_fow_val=(innings_state[~pd.isnull(innings_state.active_partnership)]['active_partnership'])[last_fow_idx]+1\n",
    "        innings_state.loc[0:last_fow_idx-1]['active_partnership']=last_fow_val\n",
    "    reviews_match=pd.merge(innings_state,innings_df_updated,how='left')\n",
    "    reviews_match.fillna('',inplace=True)\n",
    "    reviews_match['match']=cricbuzz_match_url.split('/')[-1]\n",
    "    return reviews_match\n",
    "    \n",
    "    "
   ]
  },
  {
   "cell_type": "markdown",
   "metadata": {},
   "source": [
    "### Read match wise Cricinfo and Cricbuzz URLs"
   ]
  },
  {
   "cell_type": "code",
   "execution_count": 50,
   "metadata": {},
   "outputs": [
    {
     "data": {
      "text/html": [
       "<div>\n",
       "<style scoped>\n",
       "    .dataframe tbody tr th:only-of-type {\n",
       "        vertical-align: middle;\n",
       "    }\n",
       "\n",
       "    .dataframe tbody tr th {\n",
       "        vertical-align: top;\n",
       "    }\n",
       "\n",
       "    .dataframe thead th {\n",
       "        text-align: right;\n",
       "    }\n",
       "</style>\n",
       "<table border=\"1\" class=\"dataframe\">\n",
       "  <thead>\n",
       "    <tr style=\"text-align: right;\">\n",
       "      <th></th>\n",
       "      <th>Cricinfo_URL</th>\n",
       "      <th>Cricbuzz_URL</th>\n",
       "    </tr>\n",
       "  </thead>\n",
       "  <tbody>\n",
       "    <tr>\n",
       "      <th>0</th>\n",
       "      <td>https://www.espncricinfo.com/series/19430/scor...</td>\n",
       "      <td>https://www.cricbuzz.com/cricket-scores/20715/...</td>\n",
       "    </tr>\n",
       "    <tr>\n",
       "      <th>1</th>\n",
       "      <td>https://www.espncricinfo.com/series/19430/scor...</td>\n",
       "      <td>https://www.cricbuzz.com/cricket-scores/22954/...</td>\n",
       "    </tr>\n",
       "    <tr>\n",
       "      <th>2</th>\n",
       "      <td>https://www.espncricinfo.com/series/19430/scor...</td>\n",
       "      <td>https://www.cricbuzz.com/cricket-scores/20716/...</td>\n",
       "    </tr>\n",
       "    <tr>\n",
       "      <th>3</th>\n",
       "      <td>https://www.espncricinfo.com/series/19430/scor...</td>\n",
       "      <td>https://www.cricbuzz.com/cricket-scores/22955/...</td>\n",
       "    </tr>\n",
       "    <tr>\n",
       "      <th>4</th>\n",
       "      <td>https://www.espncricinfo.com/series/19430/scor...</td>\n",
       "      <td>https://www.cricbuzz.com/cricket-scores/20717/...</td>\n",
       "    </tr>\n",
       "    <tr>\n",
       "      <th>5</th>\n",
       "      <td>https://www.espncricinfo.com/series/19430/scor...</td>\n",
       "      <td>https://www.cricbuzz.com/cricket-scores/22859/...</td>\n",
       "    </tr>\n",
       "    <tr>\n",
       "      <th>6</th>\n",
       "      <td>https://www.espncricinfo.com/series/19430/scor...</td>\n",
       "      <td>https://www.cricbuzz.com/cricket-scores/22860/...</td>\n",
       "    </tr>\n",
       "    <tr>\n",
       "      <th>7</th>\n",
       "      <td>https://www.espncricinfo.com/series/19430/scor...</td>\n",
       "      <td>https://www.cricbuzz.com/cricket-scores/20718/...</td>\n",
       "    </tr>\n",
       "    <tr>\n",
       "      <th>8</th>\n",
       "      <td>https://www.espncricinfo.com/series/19430/scor...</td>\n",
       "      <td>https://www.cricbuzz.com/cricket-scores/20719/...</td>\n",
       "    </tr>\n",
       "    <tr>\n",
       "      <th>9</th>\n",
       "      <td>https://www.espncricinfo.com/series/19430/scor...</td>\n",
       "      <td>https://www.cricbuzz.com/cricket-scores/22743/...</td>\n",
       "    </tr>\n",
       "    <tr>\n",
       "      <th>10</th>\n",
       "      <td>https://www.espncricinfo.com/series/19430/scor...</td>\n",
       "      <td>https://www.cricbuzz.com/cricket-scores/22744/...</td>\n",
       "    </tr>\n",
       "    <tr>\n",
       "      <th>11</th>\n",
       "      <td>https://www.espncricinfo.com/series/19430/scor...</td>\n",
       "      <td>https://www.cricbuzz.com/cricket-scores/22745/...</td>\n",
       "    </tr>\n",
       "    <tr>\n",
       "      <th>12</th>\n",
       "      <td>https://www.espncricinfo.com/series/19430/scor...</td>\n",
       "      <td>https://www.cricbuzz.com/cricket-scores/22749/...</td>\n",
       "    </tr>\n",
       "    <tr>\n",
       "      <th>13</th>\n",
       "      <td>https://www.espncricinfo.com/series/19430/scor...</td>\n",
       "      <td>https://www.cricbuzz.com/cricket-scores/22579/...</td>\n",
       "    </tr>\n",
       "    <tr>\n",
       "      <th>14</th>\n",
       "      <td>https://www.espncricinfo.com/series/19430/scor...</td>\n",
       "      <td>https://www.cricbuzz.com/cricket-scores/22750/...</td>\n",
       "    </tr>\n",
       "    <tr>\n",
       "      <th>15</th>\n",
       "      <td>https://www.espncricinfo.com/series/19430/scor...</td>\n",
       "      <td>https://www.cricbuzz.com/cricket-scores/22580/...</td>\n",
       "    </tr>\n",
       "  </tbody>\n",
       "</table>\n",
       "</div>"
      ],
      "text/plain": [
       "                                         Cricinfo_URL  \\\n",
       "0   https://www.espncricinfo.com/series/19430/scor...   \n",
       "1   https://www.espncricinfo.com/series/19430/scor...   \n",
       "2   https://www.espncricinfo.com/series/19430/scor...   \n",
       "3   https://www.espncricinfo.com/series/19430/scor...   \n",
       "4   https://www.espncricinfo.com/series/19430/scor...   \n",
       "5   https://www.espncricinfo.com/series/19430/scor...   \n",
       "6   https://www.espncricinfo.com/series/19430/scor...   \n",
       "7   https://www.espncricinfo.com/series/19430/scor...   \n",
       "8   https://www.espncricinfo.com/series/19430/scor...   \n",
       "9   https://www.espncricinfo.com/series/19430/scor...   \n",
       "10  https://www.espncricinfo.com/series/19430/scor...   \n",
       "11  https://www.espncricinfo.com/series/19430/scor...   \n",
       "12  https://www.espncricinfo.com/series/19430/scor...   \n",
       "13  https://www.espncricinfo.com/series/19430/scor...   \n",
       "14  https://www.espncricinfo.com/series/19430/scor...   \n",
       "15  https://www.espncricinfo.com/series/19430/scor...   \n",
       "\n",
       "                                         Cricbuzz_URL  \n",
       "0   https://www.cricbuzz.com/cricket-scores/20715/...  \n",
       "1   https://www.cricbuzz.com/cricket-scores/22954/...  \n",
       "2   https://www.cricbuzz.com/cricket-scores/20716/...  \n",
       "3   https://www.cricbuzz.com/cricket-scores/22955/...  \n",
       "4   https://www.cricbuzz.com/cricket-scores/20717/...  \n",
       "5   https://www.cricbuzz.com/cricket-scores/22859/...  \n",
       "6   https://www.cricbuzz.com/cricket-scores/22860/...  \n",
       "7   https://www.cricbuzz.com/cricket-scores/20718/...  \n",
       "8   https://www.cricbuzz.com/cricket-scores/20719/...  \n",
       "9   https://www.cricbuzz.com/cricket-scores/22743/...  \n",
       "10  https://www.cricbuzz.com/cricket-scores/22744/...  \n",
       "11  https://www.cricbuzz.com/cricket-scores/22745/...  \n",
       "12  https://www.cricbuzz.com/cricket-scores/22749/...  \n",
       "13  https://www.cricbuzz.com/cricket-scores/22579/...  \n",
       "14  https://www.cricbuzz.com/cricket-scores/22750/...  \n",
       "15  https://www.cricbuzz.com/cricket-scores/22580/...  "
      ]
     },
     "execution_count": 50,
     "metadata": {},
     "output_type": "execute_result"
    }
   ],
   "source": [
    "url_list=pd.read_csv('review_data/URLs.csv')\n",
    "\n",
    "url_list"
   ]
  },
  {
   "cell_type": "markdown",
   "metadata": {},
   "source": [
    "### Debug"
   ]
  },
  {
   "cell_type": "code",
   "execution_count": 51,
   "metadata": {},
   "outputs": [],
   "source": [
    "def compile_referral_data_debug(cricinfo_match_notes_url,cricbuzz_match_url):\n",
    "    '''Compile all data from given cricinfo match notes url and cricbuzz match URL'''\n",
    "    cricinfo_matchnotes_soup=scrape_cricinfo_match_notes(cricinfo_match_notes_url)\n",
    "    cricbuzz_match_soup=parse_cricbuzz_commentary(cricbuzz_match_url)\n",
    "    all_days=process_cricinfo_match_notes(cricinfo_matchnotes_soup)\n",
    "    innings_df,innings_list=create_innings_df(all_days)\n",
    "    return cricinfo_matchnotes_soup,cricbuzz_match_soup,all_days,innings_df,innings_list\n",
    "    "
   ]
  },
  {
   "cell_type": "markdown",
   "metadata": {},
   "source": [
    "### Run match by match [to avoid blocking of IPs]"
   ]
  },
  {
   "cell_type": "code",
   "execution_count": 52,
   "metadata": {},
   "outputs": [],
   "source": [
    "# row=7\n",
    "# cricinfo_match_notes_url=(url_list.iloc[row]['Cricinfo_URL'])\n",
    "# cricbuzz_match_url=(url_list.iloc[row]['Cricbuzz_URL'])\n",
    "\n",
    "# reviews_match=compile_referral_data(cricinfo_match_notes_url,cricbuzz_match_url)\n",
    "# reviews_match.to_csv('review_data/reviews_match_{0}.csv'.format(cricbuzz_match_url.split('/')[-1]),index=False)\n",
    "# print(\"Match parsed\",cricbuzz_match_url.split('/')[-1])\n",
    "\n",
    "# ##FOR DEBUGGING USE BELOW SNIPPET\n",
    "\n",
    "# #cricinfo_matchnotes_soup,cricbuzz_match_soup,all_days,innings_df,innings_list=compile_referral_data_debug(cricinfo_match_notes_url,cricbuzz_match_url)"
   ]
  },
  {
   "cell_type": "markdown",
   "metadata": {},
   "source": [
    "### Collect all match wise referral DF into one"
   ]
  },
  {
   "cell_type": "code",
   "execution_count": 53,
   "metadata": {},
   "outputs": [],
   "source": [
    "import glob\n",
    "\n",
    "reviews_df=pd.DataFrame()\n",
    "\n",
    "for glob in glob.glob(\"data/*.csv\"):\n",
    "    df=pd.read_csv(glob)\n",
    "    reviews_df=pd.concat([df,reviews_df])\n",
    "    \n",
    "# reviews_df.to_csv('reviews.csv')"
   ]
  },
  {
   "cell_type": "code",
   "execution_count": 54,
   "metadata": {},
   "outputs": [],
   "source": [
    "reviews_df=pd.read_csv('review_data/reviews.csv')\n",
    "reviews_df['innings_action']=(reviews_df['Review_team'].astype('str')).apply(lambda x: \"Batting\" if \"Batting\" in x else \"Bowling\")"
   ]
  },
  {
   "cell_type": "code",
   "execution_count": 55,
   "metadata": {},
   "outputs": [
    {
     "data": {
      "text/plain": [
       "(29481, 14)"
      ]
     },
     "execution_count": 55,
     "metadata": {},
     "output_type": "execute_result"
    }
   ],
   "source": [
    "reviews_df.shape"
   ]
  },
  {
   "cell_type": "markdown",
   "metadata": {},
   "source": [
    "### Process review events- to add overturned, review loss, 1st review loss, 2nd review loss logics"
   ]
  },
  {
   "cell_type": "code",
   "execution_count": 56,
   "metadata": {},
   "outputs": [],
   "source": [
    "df=reviews_df.loc[(~pd.isnull(reviews_df.reviews))]\n",
    "\n",
    "# df=df[df.match=='eng-vs-aus-3rd-test-the-ashes-2019']\n",
    "# ##Split into innings\n",
    "# reviews_df['Review_team']=reviews_df['Review_team'].astype('str')\n",
    "# df=reviews_df\n",
    "# df.fillna('',inplace=True)\n",
    "##Keep start review count =2\n",
    "## Overturn event logic. bowling-upheld and p.broken=True [OR] batting-upheld with p.broken=False \n",
    "##1st review lost at =\n",
    "##2nd review lost at = \n",
    "## Review loss logic is take innings, take team batting- check upheld or struck down or struck down umpires call. add 1 if struck down\n",
    "## for team bowling- check upheld or struck down or stuck down umpires call. if struck down, then add 1."
   ]
  },
  {
   "cell_type": "code",
   "execution_count": 57,
   "metadata": {},
   "outputs": [
    {
     "name": "stderr",
     "output_type": "stream",
     "text": [
      "c:\\users\\k.shridhar\\appdata\\local\\programs\\python\\python36\\lib\\site-packages\\ipykernel_launcher.py:3: SettingWithCopyWarning: \n",
      "A value is trying to be set on a copy of a slice from a DataFrame.\n",
      "Try using .loc[row_indexer,col_indexer] = value instead\n",
      "\n",
      "See the caveats in the documentation: http://pandas.pydata.org/pandas-docs/stable/user_guide/indexing.html#returning-a-view-versus-a-copy\n",
      "  This is separate from the ipykernel package so we can avoid doing imports until\n"
     ]
    }
   ],
   "source": [
    "df['overturned']=df[['Review_team','Review_outcome','Partnership_broken']].apply(lambda x: True if \n",
    "(('Bowling' in x.Review_team and x.Review_outcome=='Upheld' and x.Partnership_broken==True) \n",
    " or ('Batting' in x.Review_team and x.Review_outcome=='Upheld' and x.Partnership_broken==False)) else False,axis=1)"
   ]
  },
  {
   "cell_type": "code",
   "execution_count": 58,
   "metadata": {},
   "outputs": [
    {
     "name": "stderr",
     "output_type": "stream",
     "text": [
      "c:\\users\\k.shridhar\\appdata\\local\\programs\\python\\python36\\lib\\site-packages\\ipykernel_launcher.py:3: SettingWithCopyWarning: \n",
      "A value is trying to be set on a copy of a slice from a DataFrame.\n",
      "Try using .loc[row_indexer,col_indexer] = value instead\n",
      "\n",
      "See the caveats in the documentation: http://pandas.pydata.org/pandas-docs/stable/user_guide/indexing.html#returning-a-view-versus-a-copy\n",
      "  This is separate from the ipykernel package so we can avoid doing imports until\n"
     ]
    }
   ],
   "source": [
    "df['review_lost']=df[['Review_team','Review_outcome','Partnership_broken']].apply(lambda x: True if \n",
    "(('Bowling' in x.Review_team and x.Review_outcome=='Struck down' and x.Partnership_broken==False) \n",
    " or ('Batting' in x.Review_team and x.Review_outcome=='Struck down' and x.Partnership_broken==True)) else False,axis=1)\n"
   ]
  },
  {
   "cell_type": "code",
   "execution_count": 59,
   "metadata": {},
   "outputs": [
    {
     "name": "stderr",
     "output_type": "stream",
     "text": [
      "c:\\users\\k.shridhar\\appdata\\local\\programs\\python\\python36\\lib\\site-packages\\ipykernel_launcher.py:1: SettingWithCopyWarning: \n",
      "A value is trying to be set on a copy of a slice from a DataFrame.\n",
      "Try using .loc[row_indexer,col_indexer] = value instead\n",
      "\n",
      "See the caveats in the documentation: http://pandas.pydata.org/pandas-docs/stable/user_guide/indexing.html#returning-a-view-versus-a-copy\n",
      "  \"\"\"Entry point for launching an IPython kernel.\n",
      "c:\\users\\k.shridhar\\appdata\\local\\programs\\python\\python36\\lib\\site-packages\\ipykernel_launcher.py:3: SettingWithCopyWarning: \n",
      "A value is trying to be set on a copy of a slice from a DataFrame.\n",
      "Try using .loc[row_indexer,col_indexer] = value instead\n",
      "\n",
      "See the caveats in the documentation: http://pandas.pydata.org/pandas-docs/stable/user_guide/indexing.html#returning-a-view-versus-a-copy\n",
      "  This is separate from the ipykernel package so we can avoid doing imports until\n"
     ]
    }
   ],
   "source": [
    "df['first_review_lost']=(df.loc[df.review_lost==True].sort_values('Over').groupby([\"match\",\"innings\",\"innings_action\"])['review_lost'].rank('first')==1)\n",
    "\n",
    "df['second_review_lost']=(df.loc[df.review_lost==True].sort_values('Over').groupby([\"match\",\"innings\",\"innings_action\"])['review_lost'].rank('first')==2)\n"
   ]
  },
  {
   "cell_type": "code",
   "execution_count": 60,
   "metadata": {},
   "outputs": [],
   "source": [
    "df.fillna('',inplace=True)"
   ]
  },
  {
   "cell_type": "code",
   "execution_count": 61,
   "metadata": {},
   "outputs": [],
   "source": [
    "cols_to_add_from_df=['overturned','review_lost','first_review_lost','second_review_lost']\n",
    "\n",
    "for col in cols_to_add_from_df:\n",
    "    reviews_df[col]=df.loc[df.index,col]"
   ]
  },
  {
   "cell_type": "code",
   "execution_count": 62,
   "metadata": {},
   "outputs": [],
   "source": [
    "reviews_df.fillna('',inplace=True)"
   ]
  },
  {
   "cell_type": "code",
   "execution_count": 63,
   "metadata": {},
   "outputs": [],
   "source": [
    "# reviews_df.to_csv('review_data/reviews_updated.csv')"
   ]
  },
  {
   "cell_type": "code",
   "execution_count": 64,
   "metadata": {},
   "outputs": [
    {
     "data": {
      "text/plain": [
       "(29481, 19)"
      ]
     },
     "execution_count": 64,
     "metadata": {},
     "output_type": "execute_result"
    }
   ],
   "source": [
    "reviews_df=pd.read_csv('review_data/reviews_updated.csv')\n",
    "\n",
    "reviews_df.shape"
   ]
  },
  {
   "cell_type": "markdown",
   "metadata": {},
   "source": [
    "### Visualisations for blog"
   ]
  },
  {
   "cell_type": "markdown",
   "metadata": {},
   "source": [
    "- Batsman who took the most reviews (intiated by batsman)\n",
    "- Whom did teams take a review against the most? \n",
    "- Umpire effectiveness (# of overturned decisions/total number of DRS calls for an umpire) Bar chart\n",
    "- Review effectiveness by teams overall (Who had most partnership breaks when overturned)"
   ]
  },
  {
   "cell_type": "code",
   "execution_count": 65,
   "metadata": {},
   "outputs": [
    {
     "name": "stdout",
     "output_type": "stream",
     "text": [
      "Index(['Unnamed: 0', 'innings', 'Over', 'Commentary', 'active_partnership',\n",
      "       'reviews', 'Review_team', 'Review_batsman', 'Review_umpire',\n",
      "       'Review_outcome', 'Umpires_call', 'index', 'Partnership_broken',\n",
      "       'match', 'innings_action', 'overturned', 'review_lost',\n",
      "       'first_review_lost', 'second_review_lost'],\n",
      "      dtype='object')\n"
     ]
    }
   ],
   "source": [
    "df=reviews_df[~pd.isnull(reviews_df.reviews)]\n",
    "\n",
    "df.shape\n",
    "\n",
    "print(df.columns)"
   ]
  },
  {
   "cell_type": "markdown",
   "metadata": {},
   "source": [
    "### Overturned decisions per match"
   ]
  },
  {
   "cell_type": "code",
   "execution_count": 66,
   "metadata": {},
   "outputs": [],
   "source": [
    "overturned_per_match=df.groupby('match')['overturned'].sum()"
   ]
  },
  {
   "cell_type": "markdown",
   "metadata": {},
   "source": [
    "### Total decisions per match"
   ]
  },
  {
   "cell_type": "code",
   "execution_count": 67,
   "metadata": {},
   "outputs": [],
   "source": [
    "total_per_match=df.groupby('match')['overturned'].count()"
   ]
  },
  {
   "cell_type": "code",
   "execution_count": 68,
   "metadata": {},
   "outputs": [],
   "source": [
    "ot_decisions=[]\n",
    "\n",
    "tot_avg_decisions=[]"
   ]
  },
  {
   "cell_type": "code",
   "execution_count": 69,
   "metadata": {},
   "outputs": [],
   "source": [
    "for r in range((df.shape[0])):\n",
    "    ot_decisions.append(overturned_per_match.loc[df.match.iloc[r]])\n",
    "    tot_avg_decisions.append(overturned_per_match.loc[df.match.iloc[r]]/total_per_match.loc[df.match.iloc[r]])"
   ]
  },
  {
   "cell_type": "code",
   "execution_count": 70,
   "metadata": {},
   "outputs": [
    {
     "name": "stderr",
     "output_type": "stream",
     "text": [
      "c:\\users\\k.shridhar\\appdata\\local\\programs\\python\\python36\\lib\\site-packages\\ipykernel_launcher.py:1: SettingWithCopyWarning: \n",
      "A value is trying to be set on a copy of a slice from a DataFrame.\n",
      "Try using .loc[row_indexer,col_indexer] = value instead\n",
      "\n",
      "See the caveats in the documentation: http://pandas.pydata.org/pandas-docs/stable/user_guide/indexing.html#returning-a-view-versus-a-copy\n",
      "  \"\"\"Entry point for launching an IPython kernel.\n"
     ]
    }
   ],
   "source": [
    "df['overturned_decisions']=ot_decisions"
   ]
  },
  {
   "cell_type": "code",
   "execution_count": 71,
   "metadata": {},
   "outputs": [
    {
     "name": "stderr",
     "output_type": "stream",
     "text": [
      "c:\\users\\k.shridhar\\appdata\\local\\programs\\python\\python36\\lib\\site-packages\\ipykernel_launcher.py:1: SettingWithCopyWarning: \n",
      "A value is trying to be set on a copy of a slice from a DataFrame.\n",
      "Try using .loc[row_indexer,col_indexer] = value instead\n",
      "\n",
      "See the caveats in the documentation: http://pandas.pydata.org/pandas-docs/stable/user_guide/indexing.html#returning-a-view-versus-a-copy\n",
      "  \"\"\"Entry point for launching an IPython kernel.\n"
     ]
    }
   ],
   "source": [
    "df['ratio_overturned']=tot_avg_decisions"
   ]
  },
  {
   "cell_type": "code",
   "execution_count": 72,
   "metadata": {},
   "outputs": [],
   "source": [
    "# fig = px.bar(df,x='match',y='overturned_decisions')\n",
    "# # fig.update_xaxes(categoryorder='sum descending')\n",
    "\n",
    "# fig.show()"
   ]
  },
  {
   "cell_type": "code",
   "execution_count": 73,
   "metadata": {},
   "outputs": [
    {
     "name": "stderr",
     "output_type": "stream",
     "text": [
      "c:\\users\\k.shridhar\\appdata\\local\\programs\\python\\python36\\lib\\site-packages\\ipykernel_launcher.py:1: SettingWithCopyWarning: \n",
      "A value is trying to be set on a copy of a slice from a DataFrame.\n",
      "Try using .loc[row_indexer,col_indexer] = value instead\n",
      "\n",
      "See the caveats in the documentation: http://pandas.pydata.org/pandas-docs/stable/user_guide/indexing.html#returning-a-view-versus-a-copy\n",
      "  \"\"\"Entry point for launching an IPython kernel.\n",
      "c:\\users\\k.shridhar\\appdata\\local\\programs\\python\\python36\\lib\\site-packages\\ipykernel_launcher.py:3: SettingWithCopyWarning: \n",
      "A value is trying to be set on a copy of a slice from a DataFrame.\n",
      "Try using .loc[row_indexer,col_indexer] = value instead\n",
      "\n",
      "See the caveats in the documentation: http://pandas.pydata.org/pandas-docs/stable/user_guide/indexing.html#returning-a-view-versus-a-copy\n",
      "  This is separate from the ipykernel package so we can avoid doing imports until\n"
     ]
    }
   ],
   "source": [
    "df['team']=df['Review_team'].apply(lambda x:x.split('(')[0].strip())\n",
    "\n",
    "df['bowler']=df['Commentary'].apply(lambda x:x.split('to')[0].strip())"
   ]
  },
  {
   "cell_type": "code",
   "execution_count": 74,
   "metadata": {},
   "outputs": [
    {
     "data": {
      "text/html": [
       "<div>\n",
       "<style scoped>\n",
       "    .dataframe tbody tr th:only-of-type {\n",
       "        vertical-align: middle;\n",
       "    }\n",
       "\n",
       "    .dataframe tbody tr th {\n",
       "        vertical-align: top;\n",
       "    }\n",
       "\n",
       "    .dataframe thead th {\n",
       "        text-align: right;\n",
       "    }\n",
       "</style>\n",
       "<table border=\"1\" class=\"dataframe\">\n",
       "  <thead>\n",
       "    <tr style=\"text-align: right;\">\n",
       "      <th></th>\n",
       "      <th>Unnamed: 0</th>\n",
       "      <th>innings</th>\n",
       "      <th>Over</th>\n",
       "      <th>Commentary</th>\n",
       "      <th>active_partnership</th>\n",
       "      <th>reviews</th>\n",
       "      <th>Review_team</th>\n",
       "      <th>Review_batsman</th>\n",
       "      <th>Review_umpire</th>\n",
       "      <th>Review_outcome</th>\n",
       "      <th>...</th>\n",
       "      <th>match</th>\n",
       "      <th>innings_action</th>\n",
       "      <th>overturned</th>\n",
       "      <th>review_lost</th>\n",
       "      <th>first_review_lost</th>\n",
       "      <th>second_review_lost</th>\n",
       "      <th>overturned_decisions</th>\n",
       "      <th>ratio_overturned</th>\n",
       "      <th>team</th>\n",
       "      <th>bowler</th>\n",
       "    </tr>\n",
       "  </thead>\n",
       "  <tbody>\n",
       "    <tr>\n",
       "      <th>1560</th>\n",
       "      <td>1560</td>\n",
       "      <td>India 1st innings</td>\n",
       "      <td>115.2</td>\n",
       "      <td>Holder to Hanuma Vihari, no run, he's given ou...</td>\n",
       "      <td>8</td>\n",
       "      <td>Over 115.2: Review by India (Batting), Umpire ...</td>\n",
       "      <td>India (Batting)</td>\n",
       "      <td>GH Vihari</td>\n",
       "      <td>PR Reiffel</td>\n",
       "      <td>Upheld</td>\n",
       "      <td>...</td>\n",
       "      <td>wi-vs-ind-2nd-test-india-tour-of-west-indies-2019</td>\n",
       "      <td>Batting</td>\n",
       "      <td>True</td>\n",
       "      <td>False</td>\n",
       "      <td>NaN</td>\n",
       "      <td>NaN</td>\n",
       "      <td>2</td>\n",
       "      <td>0.222222</td>\n",
       "      <td>India</td>\n",
       "      <td>Holder</td>\n",
       "    </tr>\n",
       "    <tr>\n",
       "      <th>4748</th>\n",
       "      <td>4748</td>\n",
       "      <td>India 1st innings</td>\n",
       "      <td>61.3</td>\n",
       "      <td>Roach to Hanuma Vihari, leg byes, 1 run, horri...</td>\n",
       "      <td>5</td>\n",
       "      <td>Over 61.3: Review by West Indies (Bowling), Um...</td>\n",
       "      <td>West Indies (Bowling)</td>\n",
       "      <td>GH Vihari</td>\n",
       "      <td>PR Reiffel</td>\n",
       "      <td>Struck down</td>\n",
       "      <td>...</td>\n",
       "      <td>wi-vs-ind-2nd-test-india-tour-of-west-indies-2019</td>\n",
       "      <td>Bowling</td>\n",
       "      <td>False</td>\n",
       "      <td>True</td>\n",
       "      <td>False</td>\n",
       "      <td>True</td>\n",
       "      <td>2</td>\n",
       "      <td>0.222222</td>\n",
       "      <td>West Indies</td>\n",
       "      <td>Roach</td>\n",
       "    </tr>\n",
       "    <tr>\n",
       "      <th>4882</th>\n",
       "      <td>4882</td>\n",
       "      <td>India 1st innings</td>\n",
       "      <td>39.1</td>\n",
       "      <td>Roach to Agarwal, no run, gone! Is he? Agarwal...</td>\n",
       "      <td>3</td>\n",
       "      <td>Over 39.1: Review by India (Batting), Umpire -...</td>\n",
       "      <td>India (Batting)</td>\n",
       "      <td>MA Agarwal</td>\n",
       "      <td>PR Reiffel</td>\n",
       "      <td>Upheld</td>\n",
       "      <td>...</td>\n",
       "      <td>wi-vs-ind-2nd-test-india-tour-of-west-indies-2019</td>\n",
       "      <td>Batting</td>\n",
       "      <td>True</td>\n",
       "      <td>False</td>\n",
       "      <td>NaN</td>\n",
       "      <td>NaN</td>\n",
       "      <td>2</td>\n",
       "      <td>0.222222</td>\n",
       "      <td>India</td>\n",
       "      <td>Roach</td>\n",
       "    </tr>\n",
       "    <tr>\n",
       "      <th>4995</th>\n",
       "      <td>4995</td>\n",
       "      <td>India 1st innings</td>\n",
       "      <td>20.3</td>\n",
       "      <td>Cornwall to Kohli, no run, a huge lbw appeal a...</td>\n",
       "      <td>3</td>\n",
       "      <td>Over 20.3: Review by West Indies (Bowling), Um...</td>\n",
       "      <td>West Indies (Bowling)</td>\n",
       "      <td>V Kohli</td>\n",
       "      <td>RA Kettleborough</td>\n",
       "      <td>Struck down</td>\n",
       "      <td>...</td>\n",
       "      <td>wi-vs-ind-2nd-test-india-tour-of-west-indies-2019</td>\n",
       "      <td>Bowling</td>\n",
       "      <td>False</td>\n",
       "      <td>True</td>\n",
       "      <td>True</td>\n",
       "      <td>False</td>\n",
       "      <td>2</td>\n",
       "      <td>0.222222</td>\n",
       "      <td>West Indies</td>\n",
       "      <td>Cornwall</td>\n",
       "    </tr>\n",
       "    <tr>\n",
       "      <th>19570</th>\n",
       "      <td>19570</td>\n",
       "      <td>India 2nd innings</td>\n",
       "      <td>4.6</td>\n",
       "      <td>Roach to Agarwal, out Lbw! Looks like he's gon...</td>\n",
       "      <td>1</td>\n",
       "      <td>Over 4.6: Review by India (Batting), Umpire - ...</td>\n",
       "      <td>India (Batting)</td>\n",
       "      <td>MA Agarwal</td>\n",
       "      <td>RA Kettleborough</td>\n",
       "      <td>Struck down - Umpires Call</td>\n",
       "      <td>...</td>\n",
       "      <td>wi-vs-ind-2nd-test-india-tour-of-west-indies-2019</td>\n",
       "      <td>Batting</td>\n",
       "      <td>False</td>\n",
       "      <td>False</td>\n",
       "      <td>NaN</td>\n",
       "      <td>NaN</td>\n",
       "      <td>2</td>\n",
       "      <td>0.222222</td>\n",
       "      <td>India</td>\n",
       "      <td>Roach</td>\n",
       "    </tr>\n",
       "  </tbody>\n",
       "</table>\n",
       "<p>5 rows × 23 columns</p>\n",
       "</div>"
      ],
      "text/plain": [
       "       Unnamed: 0            innings   Over  \\\n",
       "1560         1560  India 1st innings  115.2   \n",
       "4748         4748  India 1st innings   61.3   \n",
       "4882         4882  India 1st innings   39.1   \n",
       "4995         4995  India 1st innings   20.3   \n",
       "19570       19570  India 2nd innings    4.6   \n",
       "\n",
       "                                              Commentary  active_partnership  \\\n",
       "1560   Holder to Hanuma Vihari, no run, he's given ou...                   8   \n",
       "4748   Roach to Hanuma Vihari, leg byes, 1 run, horri...                   5   \n",
       "4882   Roach to Agarwal, no run, gone! Is he? Agarwal...                   3   \n",
       "4995   Cornwall to Kohli, no run, a huge lbw appeal a...                   3   \n",
       "19570  Roach to Agarwal, out Lbw! Looks like he's gon...                   1   \n",
       "\n",
       "                                                 reviews  \\\n",
       "1560   Over 115.2: Review by India (Batting), Umpire ...   \n",
       "4748   Over 61.3: Review by West Indies (Bowling), Um...   \n",
       "4882   Over 39.1: Review by India (Batting), Umpire -...   \n",
       "4995   Over 20.3: Review by West Indies (Bowling), Um...   \n",
       "19570  Over 4.6: Review by India (Batting), Umpire - ...   \n",
       "\n",
       "                 Review_team Review_batsman     Review_umpire  \\\n",
       "1560         India (Batting)      GH Vihari        PR Reiffel   \n",
       "4748   West Indies (Bowling)      GH Vihari        PR Reiffel   \n",
       "4882         India (Batting)     MA Agarwal        PR Reiffel   \n",
       "4995   West Indies (Bowling)        V Kohli  RA Kettleborough   \n",
       "19570        India (Batting)     MA Agarwal  RA Kettleborough   \n",
       "\n",
       "                   Review_outcome  ...  \\\n",
       "1560                       Upheld  ...   \n",
       "4748                  Struck down  ...   \n",
       "4882                       Upheld  ...   \n",
       "4995                  Struck down  ...   \n",
       "19570  Struck down - Umpires Call  ...   \n",
       "\n",
       "                                                   match  innings_action  \\\n",
       "1560   wi-vs-ind-2nd-test-india-tour-of-west-indies-2019         Batting   \n",
       "4748   wi-vs-ind-2nd-test-india-tour-of-west-indies-2019         Bowling   \n",
       "4882   wi-vs-ind-2nd-test-india-tour-of-west-indies-2019         Batting   \n",
       "4995   wi-vs-ind-2nd-test-india-tour-of-west-indies-2019         Bowling   \n",
       "19570  wi-vs-ind-2nd-test-india-tour-of-west-indies-2019         Batting   \n",
       "\n",
       "      overturned review_lost first_review_lost second_review_lost  \\\n",
       "1560        True       False               NaN                NaN   \n",
       "4748       False        True             False               True   \n",
       "4882        True       False               NaN                NaN   \n",
       "4995       False        True              True              False   \n",
       "19570      False       False               NaN                NaN   \n",
       "\n",
       "      overturned_decisions ratio_overturned         team    bowler  \n",
       "1560                     2         0.222222        India    Holder  \n",
       "4748                     2         0.222222  West Indies     Roach  \n",
       "4882                     2         0.222222        India     Roach  \n",
       "4995                     2         0.222222  West Indies  Cornwall  \n",
       "19570                    2         0.222222        India     Roach  \n",
       "\n",
       "[5 rows x 23 columns]"
      ]
     },
     "execution_count": 74,
     "metadata": {},
     "output_type": "execute_result"
    }
   ],
   "source": [
    "df.head()"
   ]
  },
  {
   "cell_type": "code",
   "execution_count": 75,
   "metadata": {},
   "outputs": [
    {
     "data": {
      "text/plain": [
       "(168, 23)"
      ]
     },
     "execution_count": 75,
     "metadata": {},
     "output_type": "execute_result"
    }
   ],
   "source": [
    "df.shape"
   ]
  },
  {
   "cell_type": "code",
   "execution_count": 76,
   "metadata": {},
   "outputs": [],
   "source": [
    "# df.to_csv('review_data/reviews_15dec.csv',index=False)"
   ]
  },
  {
   "cell_type": "code",
   "execution_count": 77,
   "metadata": {},
   "outputs": [],
   "source": [
    "df1=df.loc[df.review_lost==True]"
   ]
  },
  {
   "cell_type": "code",
   "execution_count": 78,
   "metadata": {},
   "outputs": [],
   "source": [
    "# df1.to_csv(\"review_data/rev_events.csv\",index=False)"
   ]
  },
  {
   "cell_type": "markdown",
   "metadata": {},
   "source": [
    "#### Fixes and enhancements:\n",
    "\n",
    "- Active partnership sometimes increments additional fields- due to retired not outs and 1st innings declarations..etc.\n",
    "- Add wicket keeper at review event"
   ]
  },
  {
   "cell_type": "code",
   "execution_count": null,
   "metadata": {},
   "outputs": [],
   "source": []
  }
 ],
 "metadata": {
  "kernelspec": {
   "display_name": "Python 3",
   "language": "python",
   "name": "python3"
  },
  "language_info": {
   "codemirror_mode": {
    "name": "ipython",
    "version": 3
   },
   "file_extension": ".py",
   "mimetype": "text/x-python",
   "name": "python",
   "nbconvert_exporter": "python",
   "pygments_lexer": "ipython3",
   "version": "3.6.8"
  }
 },
 "nbformat": 4,
 "nbformat_minor": 2
}
