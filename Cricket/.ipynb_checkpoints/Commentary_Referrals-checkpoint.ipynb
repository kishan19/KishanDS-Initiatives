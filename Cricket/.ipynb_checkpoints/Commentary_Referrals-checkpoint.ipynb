{
 "cells": [
  {
   "cell_type": "markdown",
   "metadata": {},
   "source": [
    "- Find a set of match URLs\n",
    "\n",
    "- Parse Match notes of a given URL to extract the reviews taken\n",
    "\n",
    "- Analyze stats from the reviews"
   ]
  },
  {
   "cell_type": "code",
   "execution_count": 1,
   "metadata": {},
   "outputs": [],
   "source": [
    "import requests\n",
    "from bs4 import BeautifulSoup\n",
    "import pandas as pd"
   ]
  },
  {
   "cell_type": "code",
   "execution_count": 2,
   "metadata": {},
   "outputs": [],
   "source": [
    "page_url='https://www.espncricinfo.com/scores/series/19430/season/2019/icc-world-test-championship'\n",
    "\n",
    "r1=requests.get(page_url)\n",
    "bs_main=BeautifulSoup(r1.text,'html.parser')"
   ]
  },
  {
   "cell_type": "code",
   "execution_count": 3,
   "metadata": {},
   "outputs": [],
   "source": [
    "bs_main.prettify()\n",
    "\n",
    "urllist=[]"
   ]
  },
  {
   "cell_type": "code",
   "execution_count": 4,
   "metadata": {},
   "outputs": [],
   "source": [
    "for link in bs_main.find_all('a',href=True,text='SCORECARD'):\n",
    "    urllist.append('https://www.espncricinfo.com'+link['href'])"
   ]
  },
  {
   "cell_type": "code",
   "execution_count": 5,
   "metadata": {},
   "outputs": [],
   "source": [
    "url='https://www.espncricinfo.com/series/19430/scorecard/1187009/india-vs-south-africa-3rd-test-icc-world-test-championship-2019-2021'\n",
    "\n",
    "r=requests.get(url.format(1))\n"
   ]
  },
  {
   "cell_type": "code",
   "execution_count": 6,
   "metadata": {},
   "outputs": [],
   "source": [
    "referral_df=pd.DataFrame()"
   ]
  },
  {
   "cell_type": "code",
   "execution_count": 7,
   "metadata": {},
   "outputs": [],
   "source": [
    "def url_to_referral_df(referral_df,urllist):\n",
    "    '''Function to parse a list of URLs into a table of referrals from Cricinfo Match Notes'''\n",
    "    for url in urllist:\n",
    "        r=requests.get(url)\n",
    "        bs=BeautifulSoup(r.text,'html.parser')\n",
    "        m_notes=bs.find('h1',text='Match Notes')\n",
    "        all_notes=m_notes.next_element.next.find_all('li')\n",
    "        df=pd.DataFrame({'Match':[],'Match Notes':[]})\n",
    "        df['Match Notes']=[i.text for i in all_notes]\n",
    "        df=df.loc[(df['Match Notes'].str.contains(': Review')) & (df['Match Notes'].str.startswith('Over'))]\n",
    "        df['Match']=bs.find('div',{'class':'cscore_info-overview'}).text\n",
    "        referral_df=referral_df.append(df)\n",
    "    return referral_df\n",
    "        "
   ]
  },
  {
   "cell_type": "code",
   "execution_count": 8,
   "metadata": {},
   "outputs": [],
   "source": [
    "for url in urllist[:1]:\n",
    "    r=requests.get(url)\n",
    "    bs=BeautifulSoup(r.text,'html.parser')\n",
    "    m_notes=bs.find('h1',text='Match Notes')\n",
    "    all_notes=m_notes.next_element.next.find_all('li')\n",
    "    df=pd.DataFrame({'Match':[],'Match Notes':[]})\n",
    "    df['Match Notes']=[i.text for i in all_notes]\n",
    "    df=df.loc[(df['Match Notes'].str.contains(': Review')) & (df['Match Notes'].str.startswith('Over'))]\n",
    "    df['Match']=bs.find('div',{'class':'cscore_info-overview'}).text"
   ]
  },
  {
   "cell_type": "code",
   "execution_count": null,
   "metadata": {},
   "outputs": [],
   "source": [
    "referral_df=url_to_referral_df(referral_df,urllist)"
   ]
  },
  {
   "cell_type": "code",
   "execution_count": null,
   "metadata": {},
   "outputs": [],
   "source": [
    "# referral_df=pd.read_csv('referral_df.csv')"
   ]
  },
  {
   "cell_type": "code",
   "execution_count": null,
   "metadata": {},
   "outputs": [],
   "source": [
    "referral_df"
   ]
  },
  {
   "cell_type": "markdown",
   "metadata": {},
   "source": [
    "### Match metadata\n",
    "\n",
    "-  Match in Series \n",
    "-  Series Name to produce facets \n",
    "-  Match Venue\n",
    "- Match Date (Month_Year)\n",
    "\n",
    "\n",
    "### Referral data\n",
    "\n",
    "\n",
    "-  **Over of referral** \n",
    "\n",
    "-  **Innings of referral (1,2,3,4)-- needs some work....**\n",
    "\n",
    "- **Time before top up (80 over target)- subtract 80 overs...**\n",
    "\n",
    "- Team taking review\n",
    "\n",
    "- Team Batting/Bowling\n",
    "\n",
    "- Umpire at time of review\n",
    "\n",
    "- Batsman at time of review\n",
    "\n",
    "- Outcome of review \n",
    "\n",
    "### Match situation data\n",
    "\n",
    "\n",
    "- **How long before innings completion for player --Effect post DRS**\n",
    "\n",
    "- **Batting partner at other end --this needs the exact state of the ball when the review was taken**\n",
    "\n",
    "- **No. of batsman in top 7 left --SAME as above**\n",
    "\n",
    "- **No. of reviews that were already used by batting team -- scrape from below scorecard**\n",
    "\n",
    "- **No. of reviews that were already used by bowling team --scrape from below scorecard**\n"
   ]
  },
  {
   "cell_type": "code",
   "execution_count": null,
   "metadata": {},
   "outputs": [],
   "source": [
    "c=requests.get('https://www.espncricinfo.com/series/19430/commentary/1152846/england-vs-australia-1st-test-icc-world-test-championship-2019-2021')"
   ]
  },
  {
   "cell_type": "code",
   "execution_count": null,
   "metadata": {},
   "outputs": [],
   "source": [
    "commentary_bs=BeautifulSoup(c.text,'html.parser')"
   ]
  },
  {
   "cell_type": "code",
   "execution_count": null,
   "metadata": {},
   "outputs": [],
   "source": [
    "commentary_bs.find_all('div',{'class':'over'})"
   ]
  },
  {
   "cell_type": "code",
   "execution_count": null,
   "metadata": {},
   "outputs": [],
   "source": [
    "from bs4 import BeautifulSoup\n",
    "from selenium import webdriver\n",
    "\n",
    "from webdriver_manager.chrome import ChromeDriverManager\n",
    "\n",
    "driver = webdriver.Chrome(ChromeDriverManager().install())\n",
    "# driver = webdriver.Chrome()\n",
    "url = \"https://www.espncricinfo.com/series/19430/commentary/1152846/england-vs-australia-1st-test-icc-world-test-championship-2019-2021\"\n",
    "driver.get(url)\n",
    "soup = BeautifulSoup(driver.page_source, 'html.parser')\n",
    "driver.quit()\n",
    "print(soup.prettify())"
   ]
  },
  {
   "cell_type": "code",
   "execution_count": null,
   "metadata": {},
   "outputs": [],
   "source": [
    "import json\n",
    "(soup.prettify())"
   ]
  },
  {
   "cell_type": "code",
   "execution_count": null,
   "metadata": {},
   "outputs": [],
   "source": [
    "soup.find_all('div')"
   ]
  },
  {
   "cell_type": "code",
   "execution_count": null,
   "metadata": {},
   "outputs": [],
   "source": [
    "import yaml\n",
    "\n",
    "with open('../data/tests/1192874.yaml', 'r') as f:\n",
    "    df = pd.io.json.json_normalize(yaml.load(f))\n",
    "\n",
    "print(df.head())"
   ]
  },
  {
   "cell_type": "code",
   "execution_count": null,
   "metadata": {},
   "outputs": [],
   "source": [
    "(df['innings'][0][0])['1st innings']['deliveries']"
   ]
  },
  {
   "cell_type": "code",
   "execution_count": null,
   "metadata": {},
   "outputs": [],
   "source": [
    "# referral_df.to_csv('referral_df.csv',index=False)"
   ]
  },
  {
   "cell_type": "code",
   "execution_count": null,
   "metadata": {},
   "outputs": [],
   "source": [
    "# referral_df=pd.read_csv('referral_df.csv')"
   ]
  },
  {
   "cell_type": "code",
   "execution_count": null,
   "metadata": {},
   "outputs": [],
   "source": [
    "referral_df.iloc[0]['Match Notes']"
   ]
  },
  {
   "cell_type": "code",
   "execution_count": null,
   "metadata": {},
   "outputs": [],
   "source": []
  },
  {
   "cell_type": "code",
   "execution_count": null,
   "metadata": {},
   "outputs": [],
   "source": [
    "# bs=BeautifulSoup(r.text,'html.parser')\n",
    "\n",
    "# print(bs.prettify())"
   ]
  },
  {
   "cell_type": "code",
   "execution_count": null,
   "metadata": {},
   "outputs": [],
   "source": [
    "# m_notes=bs.find('h1',text='Match Notes')"
   ]
  },
  {
   "cell_type": "code",
   "execution_count": null,
   "metadata": {},
   "outputs": [],
   "source": [
    "# all_notes=m_notes.next_element.next.find_all('li')"
   ]
  },
  {
   "cell_type": "code",
   "execution_count": null,
   "metadata": {},
   "outputs": [],
   "source": [
    "# df=pd.DataFrame({'Match':[],'Match Notes':[]})"
   ]
  },
  {
   "cell_type": "code",
   "execution_count": null,
   "metadata": {},
   "outputs": [],
   "source": [
    "# m_notes.next_element.next.find_all('li')"
   ]
  },
  {
   "cell_type": "code",
   "execution_count": null,
   "metadata": {
    "scrolled": true
   },
   "outputs": [],
   "source": [
    "# df['Match Notes']=[i.text for i in all_notes]"
   ]
  },
  {
   "cell_type": "code",
   "execution_count": null,
   "metadata": {},
   "outputs": [],
   "source": [
    "# df['Match']=bs.find('div',{'class':'cscore_info-overview'}).text"
   ]
  },
  {
   "cell_type": "code",
   "execution_count": null,
   "metadata": {},
   "outputs": [],
   "source": [
    "# df.to_csv('df.csv',index=False)"
   ]
  },
  {
   "cell_type": "code",
   "execution_count": null,
   "metadata": {},
   "outputs": [],
   "source": [
    "# df.loc[(df['Match Notes'].str.contains(': Review')) & (df['Match Notes'].str.startswith('Over'))]"
   ]
  }
 ],
 "metadata": {
  "kernelspec": {
   "display_name": "Python 3",
   "language": "python",
   "name": "python3"
  },
  "language_info": {
   "codemirror_mode": {
    "name": "ipython",
    "version": 3
   },
   "file_extension": ".py",
   "mimetype": "text/x-python",
   "name": "python",
   "nbconvert_exporter": "python",
   "pygments_lexer": "ipython3",
   "version": "3.6.8"
  }
 },
 "nbformat": 4,
 "nbformat_minor": 2
}
