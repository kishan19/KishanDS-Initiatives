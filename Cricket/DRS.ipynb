{
 "cells": [
  {
   "cell_type": "markdown",
   "metadata": {},
   "source": [
    "### Insights \n",
    "\n",
    "**PHASE 1**:\n",
    "\n",
    "- How effective was the DRS call in extending the survival at the crease?\n",
    "\n",
    "- No. of referrals innings wise\n",
    "\n",
    "- Who was the batting partner who has probably assited the most in DRS?\n",
    "\n",
    "**PHASE 2**:\n",
    "\n",
    "- How many recognized batsmen were left? And was there a missed opportunity due to DRS being recklessly taken earlier?**\n",
    "\n",
    "- Missed reviews by teams: Did # of remaining reviews have a say\n"
   ]
  },
  {
   "cell_type": "markdown",
   "metadata": {},
   "source": [
    "\n",
    "\n",
    "### Data points (Phase 1)\n",
    "-  Match in Series \n",
    "-  Series Name to produce facets \n",
    "-  Match Venue\n",
    "-  Match Date (Month_Year)\n",
    "-  Over of referral\n",
    "-  Innings of referral in game\n",
    "- Team taking review\n",
    "- Team Batting/Bowling\n",
    "- Umpire at time of review\n",
    "- Batsman at time of review\n",
    "- Outcome of review \n",
    "- Innings wise dismissal data\n",
    "- Over in which batsman was dismissed\n",
    "- Innings wise referral data (scraped from match notes, needs a bit of formatting)\n",
    "- Commentary of that particular referral ball\n",
    "\n",
    "\n",
    "**Future**:\n",
    "\n",
    "- no. of recognized batsman to come vs missed opportunities for them\n"
   ]
  },
  {
   "cell_type": "code",
   "execution_count": 1,
   "metadata": {},
   "outputs": [],
   "source": [
    "cricinfo_match_base_url='https://www.espncricinfo.com/series/19430/commentary/1152846/england-vs-australia-1st-test-icc-world-test-championship-2019-2021'\n",
    "\n",
    "## To change innings, use ?innings=1/2/3/4"
   ]
  },
  {
   "cell_type": "code",
   "execution_count": 2,
   "metadata": {},
   "outputs": [],
   "source": [
    "cricinfo_match_notes_url='https://www.espncricinfo.com/series/19430/scorecard/1152846/england-vs-australia-1st-test-icc-world-test-championship-2019-2021'"
   ]
  },
  {
   "cell_type": "code",
   "execution_count": 4,
   "metadata": {},
   "outputs": [],
   "source": [
    "from bs4 import BeautifulSoup\n",
    "from selenium import webdriver\n",
    "\n",
    "from webdriver_manager.chrome import ChromeDriverManager\n",
    "\n",
    "chromedriver=\"C:/Users/k.shridhar/Documents/chromedriver.exe\"\n",
    "driver = webdriver.Chrome(executable_path=chromedriver)\n",
    "#url = \"https://www.espncricinfo.com/series/19430/commentary/1152846/england-vs-australia-1st-test-icc-world-test-championship-2019-2021\"\n",
    "\n",
    "driver.get(cricinfo_match_notes_url)\n",
    "soup = BeautifulSoup(driver.page_source, 'html.parser')\n",
    "\n",
    "m_notes=soup.find('h1',text='Match Notes')\n",
    "\n",
    "all_notes=m_notes.next_element.next.find_all('li')\n",
    "\n",
    "driver.quit()\n",
    "# print(soup.prettify())\n",
    "\n",
    "\n",
    "# driver.get(cricinfo_match_base_url)\n",
    "# soup = BeautifulSoup(driver.page_source, 'html.parser')\n",
    "# s2=driver.find_element_by_class_name('over')\n",
    "# m_notes=soup.find('div',text='12.6')\n",
    "\n",
    "#all_notes=m_notes.next_element.next.find_all('li')\n",
    "\n",
    "driver.quit()\n"
   ]
  },
  {
   "cell_type": "code",
   "execution_count": 5,
   "metadata": {},
   "outputs": [],
   "source": [
    "review_match_events=[i.text for i in all_notes if ((\"Review\" in i.text) & (i.text.startswith(\"Over\")))]"
   ]
  },
  {
   "cell_type": "code",
   "execution_count": 6,
   "metadata": {},
   "outputs": [
    {
     "data": {
      "text/plain": [
       "['Over 12.6: Review by England (Batting), Umpire - JS Wilson, Batsman - JE Root (Upheld)',\n",
       " 'Over 16.4: Review by England (Batting), Umpire - JS Wilson, Batsman - JE Root (Upheld)',\n",
       " 'Over 25.5: Review by England (Batting), Umpire - Aleem Dar, Batsman - JL Denly (Struck down)',\n",
       " 'Over 28.5: Review by Australia (Bowling), Umpire - JS Wilson, Batsman - JC Buttler (Struck down - Umpires Call)',\n",
       " 'Over 36.6: Review by England (Batting), Umpire - JS Wilson, Batsman - JM Bairstow (Struck down)',\n",
       " 'Over 44.4: Review by Australia (Bowling), Umpire - JS Wilson, Batsman - MM Ali (Struck down)',\n",
       " 'Over 74.5: Review by England (Bowling), Umpire - JS Wilson, Batsman - SPD Smith (Struck down)',\n",
       " 'Over 84.2: Review by Australia (Batting), Umpire - JS Wilson, Batsman - MS Wade (Upheld)',\n",
       " 'Over 97.6: Review by England (Bowling), Umpire - Aleem Dar, Batsman - TD Paine (Struck down)',\n",
       " 'Over 2.6: Review by England (Bowling), Umpire - JS Wilson, Batsman - DA Warner (Upheld)',\n",
       " 'Over 20.6: Review by England (Batting), Umpire - JS Wilson, Batsman - JE Root (Upheld)',\n",
       " 'Over 33.2: Review by England (Batting), Umpire - Aleem Dar, Batsman - JE Root (Upheld)',\n",
       " 'Over 82.2: Review by Australia (Bowling), Umpire - JS Wilson, Batsman - RJ Burns (Struck down)',\n",
       " 'Over 3.1: Review by England (Bowling), Umpire - Aleem Dar, Batsman - DA Warner (Struck down)',\n",
       " 'Over 14.2: Review by England (Bowling), Umpire - JS Wilson, Batsman - UT Khawaja (Upheld)',\n",
       " 'Over 32.4: Review by Australia (Batting), Umpire - JS Wilson, Batsman - TM Head (Struck down)',\n",
       " 'Over 33.5: Review by Australia (Batting), Umpire - Aleem Dar, Batsman - SPD Smith (Upheld)',\n",
       " 'Over 34.6: Review by England (Bowling), Umpire - JS Wilson, Batsman - MS Wade (Upheld)',\n",
       " 'Over 46.1: Review by Australia (Batting), Umpire - JS Wilson, Batsman - PM Siddle (Upheld)',\n",
       " 'Over 74.2: Review by England (Bowling), Umpire - JS Wilson, Batsman - NM Lyon (Struck down)']"
      ]
     },
     "execution_count": 6,
     "metadata": {},
     "output_type": "execute_result"
    }
   ],
   "source": [
    "review_match_events"
   ]
  },
  {
   "cell_type": "code",
   "execution_count": 7,
   "metadata": {},
   "outputs": [
    {
     "data": {
      "text/plain": [
       "[]"
      ]
     },
     "execution_count": 7,
     "metadata": {},
     "output_type": "execute_result"
    }
   ],
   "source": [
    "soup.find_all('div',{'class':'over'})"
   ]
  }
 ],
 "metadata": {
  "kernelspec": {
   "display_name": "Python 3",
   "language": "python",
   "name": "python3"
  },
  "language_info": {
   "codemirror_mode": {
    "name": "ipython",
    "version": 3
   },
   "file_extension": ".py",
   "mimetype": "text/x-python",
   "name": "python",
   "nbconvert_exporter": "python",
   "pygments_lexer": "ipython3",
   "version": "3.6.8"
  }
 },
 "nbformat": 4,
 "nbformat_minor": 2
}
