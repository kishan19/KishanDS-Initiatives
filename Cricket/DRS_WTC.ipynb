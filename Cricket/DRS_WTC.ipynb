{
 "cells": [
  {
   "cell_type": "markdown",
   "metadata": {},
   "source": [
    "### Insights \n",
    "\n",
    "**PHASE 1**:\n",
    "\n",
    "- How effective was the DRS call in extending the survival at the crease?\n",
    "\n",
    "- No. of referrals innings wise\n",
    "\n",
    "- Who was the batting partner who has probably assited the most in DRS?\n",
    "\n",
    "**PHASE 2**:\n",
    "\n",
    "- How many recognized batsmen were left? And was there a missed opportunity due to DRS being recklessly taken earlier?**\n",
    "\n",
    "- Missed reviews by teams: Did # of remaining reviews have a say\n"
   ]
  },
  {
   "cell_type": "markdown",
   "metadata": {},
   "source": [
    "### Data points (Phase 1)\n",
    "-  Match in Series \n",
    "-  Series Name to produce facets \n",
    "-  Match Venue\n",
    "-  Match Date (Month_Year)\n",
    "-  Over of referral\n",
    "-  Innings of referral in game\n",
    "- Team taking review\n",
    "- Team Batting/Bowling\n",
    "- Umpire at time of review\n",
    "- Batsman at time of review\n",
    "- Outcome of review \n",
    "- Innings wise dismissal data\n",
    "- Active wicket partnership\n",
    "- Innings wise referral data (scraped from match notes, needs a bit of formatting)\n",
    "- Commentary of that particular referral ball\n",
    "\n",
    "\n",
    "### Data points (Phase 2)\n",
    "\n",
    "- no. of recognized batsman to come vs missed opportunities for them\n"
   ]
  },
  {
   "cell_type": "markdown",
   "metadata": {},
   "source": [
    "### Required libraries"
   ]
  },
  {
   "cell_type": "code",
   "execution_count": 1,
   "metadata": {},
   "outputs": [],
   "source": [
    "import requests\n",
    "from bs4 import BeautifulSoup\n",
    "from selenium import webdriver\n",
    "from webdriver_manager.chrome import ChromeDriverManager\n",
    "import pandas as pd\n",
    "from collections import defaultdict"
   ]
  },
  {
   "cell_type": "markdown",
   "metadata": {},
   "source": [
    "### Initialisations"
   ]
  },
  {
   "cell_type": "code",
   "execution_count": 2,
   "metadata": {},
   "outputs": [],
   "source": [
    "##Path of chromedriver\n",
    "chromedriver=\"C:/Users/k.shridhar/Documents/chromedriver.exe\""
   ]
  },
  {
   "cell_type": "markdown",
   "metadata": {},
   "source": [
    "### Scrape cricinfo match notes for DRS events"
   ]
  },
  {
   "cell_type": "code",
   "execution_count": 3,
   "metadata": {},
   "outputs": [],
   "source": [
    "def scrape_cricinfo_match_notes(cricinfo_match_notes_url):\n",
    "    '''Function to scrape Cricinfo match notes given a match URL. Returns soup of match notes'''\n",
    "    driver = webdriver.Chrome(executable_path=chromedriver)\n",
    "    driver.get(cricinfo_match_notes_url)\n",
    "    cricinfo_matchnotes_soup = BeautifulSoup(driver.page_source, 'html.parser')\n",
    "    driver.quit()\n",
    "    return cricinfo_matchnotes_soup\n",
    "    \n",
    "# cricinfo_match_notes_url='https://www.espncricinfo.com/series/19430/scorecard/1152846/england-vs-australia-1st-test-icc-world-test-championship-2019-2021'\n",
    "\n",
    "# cricinfo_matchnotes_soup=scrape_cricinfo_match_notes(cricinfo_match_notes_url)"
   ]
  },
  {
   "cell_type": "markdown",
   "metadata": {},
   "source": [
    "### Process cricinfo match notes to obtain day wise referral with outcome"
   ]
  },
  {
   "cell_type": "code",
   "execution_count": 4,
   "metadata": {},
   "outputs": [],
   "source": [
    "def process_cricinfo_match_notes(cricinfo_matchnotes_soup):\n",
    "    '''Process the information from the cricinfo matchnotes soup and obtain day wise referral information'''\n",
    "    m_notes=cricinfo_matchnotes_soup.find('h1',text='Match Notes')\n",
    "    all_days=[d for d in m_notes.next_element.next.find_all('ul',{'class':'bulleted-list'})]\n",
    "    all_days.reverse()\n",
    "    return all_days\n",
    "    \n",
    "# all_days=process_cricinfo_match_notes(soup)"
   ]
  },
  {
   "cell_type": "code",
   "execution_count": 5,
   "metadata": {},
   "outputs": [],
   "source": [
    "def create_innings_df(all_days):\n",
    "    '''Process list of day wise reviews andreturn a neater dataframe'''\n",
    "    innings_list=[]\n",
    "    innings_reviews=defaultdict(list)\n",
    "    innings_list.append([a.text for a in all_days[0] if \"innings\" in a.text and len(a.text)<=30])\n",
    "    day_wise_reviews=[a.text for a in all_days[0] if a.text.startswith(\"Over\") or \"innings\" in a.text]\n",
    "    ##Append from day2 onwards to the day 1 list\n",
    "    if len(all_days)>=2:\n",
    "        for ad in all_days[1:]:\n",
    "            daylist=[a.text for a in ad if a.text.startswith(\"Over\") or \"innings\" in a.text]\n",
    "            innings_list.append([a.text for a in ad if \"innings\" in a.text and len(a.text)<=30])\n",
    "            for d in daylist:\n",
    "                day_wise_reviews.append(d)\n",
    "\n",
    "    idxs = [i for i,x in enumerate(day_wise_reviews) if 'innings' in x]\n",
    "    start_end_idxs=list(map(list, zip(idxs, idxs[1:])))\n",
    "    for s in start_end_idxs:\n",
    "        innings_reviews[day_wise_reviews[s[0]]]=day_wise_reviews[s[0]+1:s[1]]\n",
    "    innings_reviews[day_wise_reviews[max(idxs)]]=day_wise_reviews[max(idxs)+1:]\n",
    "    idf=pd.DataFrame.from_dict(innings_reviews,orient='index')\n",
    "    idf.reset_index(inplace=True)\n",
    "    idf.fillna('',inplace=True)\n",
    "    innings_df=idf.melt(id_vars='index',value_name='reviews')\n",
    "    ##Variable column does not add any value.\n",
    "    innings_df.drop(columns='variable',inplace=True) \n",
    "    innings_df.columns=['innings','reviews']\n",
    "    innings_df=innings_df[innings_df.reviews!='']\n",
    "    \n",
    "    ###Augment Innings_df\n",
    "    \n",
    "    over=[]\n",
    "    review_team=[]\n",
    "    review_umpire=[]\n",
    "    review_batsman=[]\n",
    "    review_outcome=[]\n",
    "    \n",
    "    \n",
    "    for review in innings_df.reviews:\n",
    "        over.append(review.split('Over')[1].split(':')[0].strip())\n",
    "        review_team.append(review.split(':')[1].strip().split('by ')[1].split(',')[0])\n",
    "        review_umpire.append(review.split(':')[1].strip().split('Umpire - ')[1].split(',')[0])\n",
    "        review_batsman.append(review.split(':')[1].strip().split('Batsman -')[1].strip().split('(')[0].strip())\n",
    "        review_outcome.append(review.split(':')[1].strip().split('Batsman -')[1].strip().split('(')[1].split(')')[0].strip())\n",
    "\n",
    "    innings_df['Over']=over\n",
    "    innings_df['Review_team']=review_team\n",
    "    innings_df['Review_batsman']=review_batsman\n",
    "    innings_df['Review_umpire']=review_umpire\n",
    "    innings_df['Review_outcome']=review_outcome\n",
    "    innings_df['Umpires_call']=innings_df['Review_outcome'].apply(lambda x:\"Umpire\" in x)\n",
    "    innings_df['index']=range(len(innings_df.reviews))\n",
    "    innings_list_updated=[]\n",
    "    for i in innings_list:\n",
    "        if(i):\n",
    "            for a in range(len(i)):\n",
    "                innings_list_updated.append(i[a])\n",
    "                \n",
    "    innings_list_updated=list(dict.fromkeys(innings_list_updated))\n",
    "    innings_list_updated.reverse()\n",
    "    \n",
    "    innings_df.set_index('index',inplace=True,drop=False)\n",
    "    return innings_df,innings_list_updated\n",
    "\n",
    "# innings_df,innings_list=create_innings_df(all_days)"
   ]
  },
  {
   "cell_type": "markdown",
   "metadata": {},
   "source": [
    "### Break in partnerships"
   ]
  },
  {
   "cell_type": "code",
   "execution_count": 6,
   "metadata": {},
   "outputs": [],
   "source": [
    "def analyze_partnership_breaks(cricinfo_matchnotes_soup,innings_df,innings_list):\n",
    "    '''Analyze break in partnerships using Fall of wicket data and augment innings_df'''\n",
    "    fow_text=[fow.text for fow in cricinfo_matchnotes_soup.find_all('div',{\"class\":\"wrap dnb\"}) if \"Fall of wickets:\" in fow.text]\n",
    "    innings_fow=defaultdict(list)\n",
    "    for a,inn in enumerate(reversed(innings_list)):\n",
    "        innings_fow[inn]=[f.split(')')[0].strip().split(' ')[0] for i,f in enumerate(fow_text[a].split(':')[1].strip().split(',')) if i%2!=0]\n",
    "    innings_fow_df=pd.DataFrame.from_dict(innings_fow,orient='index')\n",
    "    innings_fow_df.reset_index(inplace=True)\n",
    "    innings_fow_df.fillna('',inplace=True)\n",
    "    innings_fow_df=innings_fow_df.melt(id_vars='index',value_name='wickets')\n",
    "    innings_fow_df['variable']=innings_fow_df['variable']+1\n",
    "    innings_fow_df.columns=['innings','active_partnership','Over']\n",
    "    innings_fow_df=innings_fow_df[innings_fow_df.Over!='']\n",
    "    pbreak_innings=pd.merge(innings_df,innings_fow_df,on=['innings','Over'],how='inner')['index']\n",
    "    innings_df['Partnership_broken']=False\n",
    "    innings_df.loc[pbreak_innings,'Partnership_broken']=True\n",
    "    return innings_df,innings_fow_df\n",
    "\n",
    "# innings_df_updated,innings_fow_df=analyze_partnership_breaks(soup,innings_df,innings_list)\n"
   ]
  },
  {
   "cell_type": "code",
   "execution_count": 7,
   "metadata": {},
   "outputs": [],
   "source": [
    "def parse_cricbuzz_commentary(cricbuzz_match_url):\n",
    "    '''Parse ball by ball commentary from Cricbuzz match URL'''\n",
    "    driver = webdriver.Chrome(executable_path=chromedriver)\n",
    "    driver.get(cricbuzz_match_url)\n",
    "    cricbuzz_match_soup = BeautifulSoup(driver.page_source, 'html.parser')\n",
    "    driver.quit()\n",
    "    return cricbuzz_match_soup\n",
    "\n",
    "# cricbuzz_match_url='https://www.cricbuzz.com/cricket-scores/20715/eng-vs-aus-1st-test-the-ashes-2019'\n",
    "\n",
    "# cricbuzz_match_soup=parse_cricbuzz_commentary(cricbuzz_match_url)"
   ]
  },
  {
   "cell_type": "code",
   "execution_count": 8,
   "metadata": {},
   "outputs": [],
   "source": [
    "def process_cricbuzz_commentary(cricbuzz_match_soup,innings_list):\n",
    "    '''Process cricbuzz soup and create cricbuzz commentary dataframe'''\n",
    "    commentary_text=[c.text for c in cricbuzz_match_soup.find_all('p',{'class':'cb-col cb-col-90 cb-com-ln'})]\n",
    "    over_text=[o.text for o in cricbuzz_match_soup.find_all('span',{'cb-col cb-col-8 text-bold'})]\n",
    "    inngs_breaks=[index for index, value in enumerate(over_text) if value == '0.1']\n",
    "    current_innings=[]\n",
    "    current_commentary=[]\n",
    "    current_over=[]\n",
    "    end=0\n",
    "    for i,b in enumerate(inngs_breaks):\n",
    "        start=b\n",
    "        for on,o in enumerate(over_text[end:start+1]):\n",
    "            current_innings.append(innings_list[i])\n",
    "            current_over.append(o)\n",
    "            current_commentary.append(commentary_text[end:start+1][on])\n",
    "        end=start+1\n",
    "    cricbuzz_commentary_df=pd.DataFrame({'innings':current_innings,'Over':current_over,'Commentary':current_commentary})\n",
    "    return cricbuzz_commentary_df\n",
    "\n",
    "# cricbuzz_commentary_df=process_cricbuzz_commentary(cricbuzz_match_soup)"
   ]
  },
  {
   "cell_type": "markdown",
   "metadata": {},
   "source": [
    "### Compile all tables"
   ]
  },
  {
   "cell_type": "code",
   "execution_count": 9,
   "metadata": {},
   "outputs": [],
   "source": [
    "# page_url='https://www.espncricinfo.com/scores/series/19430/season/2019/icc-world-test-championship'\n",
    "# r1=requests.get(page_url)\n",
    "# bs_main=BeautifulSoup(r1.text,'html.parser')\n",
    "# urllist=[]\n",
    "# for link in bs_main.find_all('a',href=True,text='SCORECARD'):\n",
    "#     urllist.append('https://www.espncricinfo.com'+link['href'])\n",
    "# pd.DataFrame(urllist).to_csv('url.csv')"
   ]
  },
  {
   "cell_type": "code",
   "execution_count": 10,
   "metadata": {},
   "outputs": [],
   "source": [
    "def compile_referral_data(cricinfo_match_notes_url,cricbuzz_match_url):\n",
    "    '''Compile all data from given cricinfo match notes url and cricbuzz match URL'''\n",
    "    cricinfo_matchnotes_soup=scrape_cricinfo_match_notes(cricinfo_match_notes_url)\n",
    "    cricbuzz_match_soup=parse_cricbuzz_commentary(cricbuzz_match_url)\n",
    "    all_days=process_cricinfo_match_notes(cricinfo_matchnotes_soup)\n",
    "    innings_df,innings_list=create_innings_df(all_days)\n",
    "    innings_df_updated,innings_fow_df=analyze_partnership_breaks(cricinfo_matchnotes_soup,innings_df,innings_list)\n",
    "    cricbuzz_commentary_df=process_cricbuzz_commentary(cricbuzz_match_soup,innings_list)\n",
    "    innings_state=pd.merge(cricbuzz_commentary_df,innings_fow_df,on=['innings','Over'],how='left').ffill()\n",
    "    last_fow_idx=min(innings_state[~pd.isnull(innings_state.active_partnership)].index)\n",
    "#     print(last_fow_idx)\n",
    "    if last_fow_idx>=1:\n",
    "        last_fow_val=(innings_state[~pd.isnull(innings_state.active_partnership)]['active_partnership'])[last_fow_idx]+1\n",
    "        innings_state.loc[0:last_fow_idx-1]['active_partnership']=last_fow_val\n",
    "    reviews_match=pd.merge(innings_state,innings_df_updated,how='left')\n",
    "    reviews_match.fillna('',inplace=True)\n",
    "    reviews_match['match']=cricbuzz_match_url.split('/')[-1]\n",
    "    \n",
    "    return reviews_match\n",
    "    \n",
    "    "
   ]
  },
  {
   "cell_type": "code",
   "execution_count": 11,
   "metadata": {},
   "outputs": [],
   "source": [
    "url_list=pd.read_csv('URLs.csv')"
   ]
  },
  {
   "cell_type": "markdown",
   "metadata": {},
   "source": [
    "### Store referral data"
   ]
  },
  {
   "cell_type": "code",
   "execution_count": 12,
   "metadata": {},
   "outputs": [],
   "source": [
    "# for row in range(url_list.shape[0]):\n",
    "#     if row>=7:\n",
    "#         cricinfo_match_notes_url=(url_list.iloc[row]['Cricinfo_URL'])\n",
    "#         cricbuzz_match_url=(url_list.iloc[row]['Cricbuzz_URL'])\n",
    "#         print(\"Match\",cricbuzz_match_url.split('/')[-1])\n",
    "#         reviews_match=compile_referral_data(cricinfo_match_notes_url,cricbuzz_match_url)\n",
    "#         reviews_match.to_csv('data/reviews_match_{0}.csv'.format(cricbuzz_match_url.split('/')[-1]),index=False)\n",
    "#         print(\"Match parsed\",cricbuzz_match_url.split('/')[-1])"
   ]
  },
  {
   "cell_type": "code",
   "execution_count": 13,
   "metadata": {},
   "outputs": [],
   "source": [
    "def compile_referral_data_debug(cricinfo_match_notes_url,cricbuzz_match_url):\n",
    "    '''Compile all data from given cricinfo match notes url and cricbuzz match URL'''\n",
    "    cricinfo_matchnotes_soup=scrape_cricinfo_match_notes(cricinfo_match_notes_url)\n",
    "    cricbuzz_match_soup=parse_cricbuzz_commentary(cricbuzz_match_url)\n",
    "    all_days=process_cricinfo_match_notes(cricinfo_matchnotes_soup)\n",
    "    innings_df,innings_list=create_innings_df(all_days)\n",
    "    return cricinfo_matchnotes_soup,cricbuzz_match_soup,all_days,innings_df,innings_list\n",
    "    "
   ]
  },
  {
   "cell_type": "markdown",
   "metadata": {},
   "source": [
    "### Run step by step to avoid blocking of IPs"
   ]
  },
  {
   "cell_type": "code",
   "execution_count": 14,
   "metadata": {},
   "outputs": [],
   "source": [
    "# row=0\n",
    "# cricinfo_match_notes_url=(url_list.iloc[row]['Cricinfo_URL'])\n",
    "# cricbuzz_match_url=(url_list.iloc[row]['Cricbuzz_URL'])\n",
    "\n",
    "# reviews_match=compile_referral_data(cricinfo_match_notes_url,cricbuzz_match_url)\n",
    "# reviews_match.to_csv('data/reviews_match_{0}.csv'.format(cricbuzz_match_url.split('/')[-1]),index=False)\n",
    "# print(\"Match parsed\",cricbuzz_match_url.split('/')[-1])\n",
    "\n",
    "# ##FOR DEBUGGING USE BELOW SNIPPET\n",
    "\n",
    "\n",
    "# #cricinfo_matchnotes_soup,cricbuzz_match_soup,all_days,innings_df,innings_list=compile_referral_data_debug(cricinfo_match_notes_url,cricbuzz_match_url)"
   ]
  },
  {
   "cell_type": "markdown",
   "metadata": {},
   "source": [
    "Fixes needed:\n",
    "- Active partnership sometimes increments additionally- due to retired not outs..etc."
   ]
  },
  {
   "cell_type": "code",
   "execution_count": null,
   "metadata": {},
   "outputs": [],
   "source": []
  }
 ],
 "metadata": {
  "kernelspec": {
   "display_name": "Python 3",
   "language": "python",
   "name": "python3"
  },
  "language_info": {
   "codemirror_mode": {
    "name": "ipython",
    "version": 3
   },
   "file_extension": ".py",
   "mimetype": "text/x-python",
   "name": "python",
   "nbconvert_exporter": "python",
   "pygments_lexer": "ipython3",
   "version": "3.6.8"
  }
 },
 "nbformat": 4,
 "nbformat_minor": 2
}
