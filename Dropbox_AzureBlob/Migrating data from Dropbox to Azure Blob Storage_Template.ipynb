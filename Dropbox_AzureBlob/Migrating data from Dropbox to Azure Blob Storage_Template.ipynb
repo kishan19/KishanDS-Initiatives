{
 "cells": [
  {
   "cell_type": "markdown",
   "metadata": {},
   "source": [
    "# How to migrate data from Dropbox to Microsoft Azure Blob Storage?\n",
    "\n",
    "Link to blog: https://medium.com/kishan19/importing-data-from-dropbox-to-azure-blob-storage-575b97cfe8a9"
   ]
  },
  {
   "cell_type": "markdown",
   "metadata": {},
   "source": [
    "#### Import the necessary packages\n",
    "\n",
    "For detailed requirements: refer to requirements.txt file"
   ]
  },
  {
   "cell_type": "code",
   "execution_count": null,
   "metadata": {},
   "outputs": [],
   "source": [
    "from IPython import InteractiveShell\n",
    "\n",
    "InteractiveShell.ast_node_interactivity=\"all\"\n",
    "import os,sys\n",
    "import dropbox\n",
    "import zipfile\n",
    "import glob\n",
    "import shutil\n",
    "\n",
    "\n",
    "from azure.storage.blob.baseblobservice import BaseBlobService\n",
    "from azure.storage.blob import (\n",
    "    BlockBlobService,\n",
    "    ContainerPermissions,\n",
    "    BlobPermissions,\n",
    "    PublicAccess,\n",
    ")"
   ]
  },
  {
   "cell_type": "markdown",
   "metadata": {},
   "source": [
    "### Initialize a few credentials"
   ]
  },
  {
   "cell_type": "code",
   "execution_count": null,
   "metadata": {},
   "outputs": [],
   "source": [
    "DROPBOX_ACCESS_TOKEN=\"ENTER ACCESS TOKEN HERE\" ##Obtain the access token by creating an app from https://www.dropbox.com/developers/apps/create\n",
    "\n",
    "AZURE_ACC_NAME = 'STORAGE ACCOUNT NAME' ##Name of the Azure storage account\n",
    "AZURE_PRIMARY_KEY = 'AZURE STORAGE ACCOUNT KEYS'\n",
    "\n"
   ]
  },
  {
   "cell_type": "code",
   "execution_count": null,
   "metadata": {},
   "outputs": [],
   "source": [
    "##Initialize dropbox connection\n",
    "dbx = dropbox.Dropbox(DROPBOX_ACCESS_TOKEN)\n",
    "\n"
   ]
  },
  {
   "cell_type": "markdown",
   "metadata": {},
   "source": [
    "### Rough overview of what the main transfer loop looks like\n",
    "\n",
    "1. Find the path of the file from dropbox and access it\n",
    "2. Download the file onto the local machine\n",
    "3. Send it to Azure Blob Storage\n",
    "4. Delete the local file"
   ]
  },
  {
   "cell_type": "code",
   "execution_count": null,
   "metadata": {},
   "outputs": [],
   "source": [
    "\n",
    "with open('FILE-PATH','wb') as file:\n",
    "    met,res=dbx.files_download('DROPBOX RELATIVE PATH OF FILE')\n",
    "    file.write(res.content) ##This will write the file to the local file system in python\n",
    "    ##The below snippet will write the output to blob storage--->\n",
    "    block_blob_service.create_blob_from_path(container_name='audio',blob_name=file_name, file_path=file_name)\n",
    "    \n",
    "##This will remove the file from the file system\n",
    "os.remove(file)"
   ]
  }
 ],
 "metadata": {
  "kernelspec": {
   "display_name": "Python 3",
   "language": "python",
   "name": "python3"
  },
  "language_info": {
   "codemirror_mode": {
    "name": "ipython",
    "version": 3
   },
   "file_extension": ".py",
   "mimetype": "text/x-python",
   "name": "python",
   "nbconvert_exporter": "python",
   "pygments_lexer": "ipython3",
   "version": "3.6.4"
  }
 },
 "nbformat": 4,
 "nbformat_minor": 2
}
