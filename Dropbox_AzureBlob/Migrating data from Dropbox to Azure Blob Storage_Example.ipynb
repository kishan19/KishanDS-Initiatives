{
 "cells": [
  {
   "cell_type": "markdown",
   "metadata": {},
   "source": [
    "### Example snippet to move the IMDA National Speech Corpus data from Dropbox to Azure Blob Storage\n",
    "\n",
    "IMDA Speech corpus data is found in dropbox here: \n",
    "\n",
    "https://www.imda.gov.sg/NationalSpeechCorpus\n",
    "\n",
    "create similar directories called part1>scripts part1>wave part2>scripts and part 2>wave"
   ]
  },
  {
   "cell_type": "code",
   "execution_count": null,
   "metadata": {},
   "outputs": [],
   "source": [
    "import pandas as pd\n",
    "import numpy as np\n",
    "import os,sys,json\n",
    "import matplotlib.pyplot as plt\n",
    "import glob\n",
    "from IPython import InteractiveShell\n",
    "\n",
    "InteractiveShell.ast_node_interactivity=\"all\""
   ]
  },
  {
   "cell_type": "markdown",
   "metadata": {},
   "source": [
    "#### MOVE FILES FROM DROPBOX TO AZURE BLOB STORAGE"
   ]
  },
  {
   "cell_type": "code",
   "execution_count": null,
   "metadata": {},
   "outputs": [],
   "source": [
    "import dropbox\n",
    "\n",
    "dbx = dropbox.Dropbox(\"ACCESS TOKEN\")\n",
    "\n",
    "import zipfile\n"
   ]
  },
  {
   "cell_type": "code",
   "execution_count": null,
   "metadata": {},
   "outputs": [],
   "source": [
    "part=['part1','part2']\n",
    "channel=[0,1,2]\n",
    "option=['script','wave']\n",
    "\n",
    "path='/imda - national speech corpus/'+part[0]+'/data'\n",
    "\n",
    "s_paths=[] ##Get all possible script paths\n",
    "w_paths=[] ##Get all possible wave paths\n",
    "for p in part:\n",
    "    for c in channel:\n",
    "        script_path='/imda - national speech corpus/'+p+'/data/channel'+str(c)+'/script'\n",
    "        wave_path='/imda - national speech corpus/'+p+'/data/channel'+str(c)+'/wave'\n",
    "        s_paths.append(script_path)\n",
    "        w_paths.append(wave_path)\n",
    "\n",
    "\n"
   ]
  },
  {
   "cell_type": "markdown",
   "metadata": {},
   "source": [
    "### Exract all transcripts and send it to blob storage\n",
    "\n"
   ]
  },
  {
   "cell_type": "code",
   "execution_count": null,
   "metadata": {},
   "outputs": [],
   "source": [
    "AZURE_ACC_NAME = 'ENTER AZURE ACCOUNT NAME'\n",
    "AZURE_PRIMARY_KEY = 'AZURE STORAGE ACCOUNT KEY'\n",
    "import zipfile\n",
    "import glob\n",
    "import shutil\n",
    "\n",
    "from azure.storage.blob.baseblobservice import BaseBlobService\n",
    "from azure.storage.blob import (\n",
    "    BlockBlobService,\n",
    "    ContainerPermissions,\n",
    "    BlobPermissions,\n",
    "    PublicAccess,\n",
    ")\n",
    "\n",
    "block_blob_service = BlockBlobService(account_name=AZURE_ACC_NAME, account_key=AZURE_PRIMARY_KEY)\n",
    "\n",
    "##Write all transcripts from PART 1\n",
    "\n",
    "for s in s_paths[:3]:\n",
    "    ent=dbx.files_list_folder(s).entries\n",
    "    for e in ent:\n",
    "        file_name='part1/script/'+e.name\n",
    "        with open(file_name,'wb') as file:\n",
    "            met,res=dbx.files_download(e.path_lower)\n",
    "            file.write(res.content)\n",
    "            block_blob_service.create_blob_from_path(container_name='audio',blob_name=file_name, file_path=file_name)\n",
    "\n",
    "shutil.rmtree(os.path.join(os.getcwd(),'part1','script'))\n",
    "\n",
    "##Write all transcripts from PART 2\n",
    "for s in s_paths[3:]:\n",
    "    ent=dbx.files_list_folder(s).entries\n",
    "    for e in ent:\n",
    "        file_name='part2/script/'+e.name\n",
    "        with open(file_name,'wb') as file:\n",
    "            met,res=dbx.files_download(e.path_lower)\n",
    "            file.write(res.content)\n",
    "            block_blob_service.create_blob_from_path(container_name='audio',blob_name=file_name, file_path=file_name)\n",
    "\n",
    "shutil.rmtree(os.path.join(os.getcwd(),'part2','script'))"
   ]
  },
  {
   "cell_type": "code",
   "execution_count": null,
   "metadata": {},
   "outputs": [],
   "source": [
    "##WRITE ZIP FILES FOR FIRST PART AUDIO\n",
    "\n",
    "for w in w_paths[:3]:\n",
    "    ent=dbx.files_list_folder(w).entries\n",
    "    for e in ent:\n",
    "        file_name='part1/wave/'+e.name       \n",
    "        dbx.files_download_to_file(file_name,e.path_lower)\n",
    "        zip_ref = zipfile.ZipFile(file_name, 'r')\n",
    "        zip_ref.extractall('part1/wave/')\n",
    "        zip_ref.close()\n",
    "        sound_path='part1/wave/'+e.name[:-4]\n",
    "        for file in glob.glob(os.path.join(sound_path,'SESSION0','*.wav')):\n",
    "            block_blob_service.create_blob_from_path(container_name='audio',blob_name=file, file_path=file)\n",
    "        for file in glob.glob(os.path.join(sound_path,'SESSION1','*.wav')):\n",
    "            block_blob_service.create_blob_from_path(container_name='audio',blob_name=file, file_path=file)\n",
    "            os.remove(os.path.join(os.getcwd(),'part1','wave',e.name[:-4])+'.zip')\n",
    "            shutil.rmtree(os.path.join(os.getcwd(),'part1','wave',e.name[:-4]))\n",
    "            \n",
    "    "
   ]
  },
  {
   "cell_type": "code",
   "execution_count": null,
   "metadata": {},
   "outputs": [],
   "source": [
    "##WRITE ZIP FILES FOR SECOND PART AUDIO\n",
    "\n",
    "for w in w_paths[3:]:\n",
    "    ent=dbx.files_list_folder(w).entries\n",
    "    for e in ent:\n",
    "        file_name='part2/wave/'+e.name       \n",
    "        dbx.files_download_to_file(file_name,e.path_lower)\n",
    "        zip_ref = zipfile.ZipFile(file_name, 'r')\n",
    "        zip_ref.extractall('part2/wave/')\n",
    "        zip_ref.close()\n",
    "        sound_path='part2/wave/'+e.name[:-4]\n",
    "        for file in glob.glob(os.path.join(sound_path,'SESSION0','*.wav')):\n",
    "            block_blob_service.create_blob_from_path(container_name='audio',blob_name=file, file_path=file)\n",
    "        for file in glob.glob(os.path.join(sound_path,'SESSION1','*.wav')):\n",
    "            block_blob_service.create_blob_from_path(container_name='audio',blob_name=file, file_path=file)\n",
    "            os.remove(os.path.join(os.getcwd(),'part2','wave',e.name[:-4])+'.zip')\n",
    "            shutil.rmtree(os.path.join(os.getcwd(),'part2','wave',e.name[:-4]))\n",
    "            \n",
    "    "
   ]
  }
 ],
 "metadata": {
  "kernelspec": {
   "display_name": "Python 3",
   "language": "python",
   "name": "python3"
  },
  "language_info": {
   "codemirror_mode": {
    "name": "ipython",
    "version": 3
   },
   "file_extension": ".py",
   "mimetype": "text/x-python",
   "name": "python",
   "nbconvert_exporter": "python",
   "pygments_lexer": "ipython3",
   "version": "3.6.4"
  }
 },
 "nbformat": 4,
 "nbformat_minor": 2
}
