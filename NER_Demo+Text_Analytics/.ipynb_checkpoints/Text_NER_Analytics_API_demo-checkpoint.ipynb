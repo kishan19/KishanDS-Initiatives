{
 "cells": [
  {
   "cell_type": "code",
   "execution_count": 21,
   "metadata": {},
   "outputs": [],
   "source": [
    "import ipywidgets"
   ]
  },
  {
   "cell_type": "code",
   "execution_count": null,
   "metadata": {},
   "outputs": [],
   "source": [
    "\n",
    "textapibox=widgets.Text(placeholder='Enter text here',description='Calling the text analytics API:',disabled=False)\n",
    "\n",
    "display(textapibox)\n",
    "\n",
    "Text_API_button=widgets.Button(description='Analyze Entities',disabled=False,button_style='info',icon='tick')\n",
    "\n",
    "display(Text_API_button)\n",
    "\n",
    "def call_text_analytics_api():\n",
    "    \n",
    "    \n",
    "    \n",
    "    \n",
    "\n",
    "def callback(wdgt):\n",
    "    '''Function to callback on press of a device'''\n",
    "    print('button clicked')\n",
    "\n",
    "\n",
    "Text_API_button.on_click(callback)"
   ]
  }
 ],
 "metadata": {
  "kernelspec": {
   "display_name": "Python 3",
   "language": "python",
   "name": "python3"
  },
  "language_info": {
   "codemirror_mode": {
    "name": "ipython",
    "version": 3
   },
   "file_extension": ".py",
   "mimetype": "text/x-python",
   "name": "python",
   "nbconvert_exporter": "python",
   "pygments_lexer": "ipython3",
   "version": "3.6.4"
  }
 },
 "nbformat": 4,
 "nbformat_minor": 2
}
