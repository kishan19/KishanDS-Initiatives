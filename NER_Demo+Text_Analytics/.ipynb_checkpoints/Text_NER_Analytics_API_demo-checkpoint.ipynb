{
 "cells": [
  {
   "cell_type": "markdown",
   "metadata": {},
   "source": [
    "# Showcasing the power of IPython widgets\n",
    "\n",
    "Link to blog: https://medium.com/kishan19/using-your-jupyter-notebook-for-a-quick-demo-of-named-entity-recognition-c974853577bf"
   ]
  },
  {
   "cell_type": "code",
   "execution_count": 21,
   "metadata": {},
   "outputs": [],
   "source": [
    "from ipywidgets import widgets\n",
    "import requests\n",
    "from nltk import ne_chunk, pos_tag, word_tokenize\n",
    "from nltk.tree import Tree"
   ]
  },
  {
   "cell_type": "markdown",
   "metadata": {},
   "source": [
    "#### Calling Microsoft Text API"
   ]
  },
  {
   "cell_type": "code",
   "execution_count": 19,
   "metadata": {},
   "outputs": [
    {
     "data": {
      "application/vnd.jupyter.widget-view+json": {
       "model_id": "0f8abd3c226940b8b152014e7d8776f4",
       "version_major": 2,
       "version_minor": 0
      },
      "text/html": [
       "<p>Failed to display Jupyter Widget of type <code>Text</code>.</p>\n",
       "<p>\n",
       "  If you're reading this message in the Jupyter Notebook or JupyterLab Notebook, it may mean\n",
       "  that the widgets JavaScript is still loading. If this message persists, it\n",
       "  likely means that the widgets JavaScript library is either not installed or\n",
       "  not enabled. See the <a href=\"https://ipywidgets.readthedocs.io/en/stable/user_install.html\">Jupyter\n",
       "  Widgets Documentation</a> for setup instructions.\n",
       "</p>\n",
       "<p>\n",
       "  If you're reading this message in another frontend (for example, a static\n",
       "  rendering on GitHub or <a href=\"https://nbviewer.jupyter.org/\">NBViewer</a>),\n",
       "  it may mean that your frontend doesn't currently support widgets.\n",
       "</p>\n"
      ],
      "text/plain": [
       "Text(value='', description='Text:', placeholder='Enter text here')"
      ]
     },
     "metadata": {},
     "output_type": "display_data"
    },
    {
     "data": {
      "application/vnd.jupyter.widget-view+json": {
       "model_id": "1b305601551644859152a10de61ace2f",
       "version_major": 2,
       "version_minor": 0
      },
      "text/html": [
       "<p>Failed to display Jupyter Widget of type <code>Button</code>.</p>\n",
       "<p>\n",
       "  If you're reading this message in the Jupyter Notebook or JupyterLab Notebook, it may mean\n",
       "  that the widgets JavaScript is still loading. If this message persists, it\n",
       "  likely means that the widgets JavaScript library is either not installed or\n",
       "  not enabled. See the <a href=\"https://ipywidgets.readthedocs.io/en/stable/user_install.html\">Jupyter\n",
       "  Widgets Documentation</a> for setup instructions.\n",
       "</p>\n",
       "<p>\n",
       "  If you're reading this message in another frontend (for example, a static\n",
       "  rendering on GitHub or <a href=\"https://nbviewer.jupyter.org/\">NBViewer</a>),\n",
       "  it may mean that your frontend doesn't currently support widgets.\n",
       "</p>\n"
      ],
      "text/plain": [
       "Button(button_style='info', description='Analyze Entities', icon='tick', style=ButtonStyle())"
      ]
     },
     "metadata": {},
     "output_type": "display_data"
    },
    {
     "name": "stdout",
     "output_type": "stream",
     "text": [
      "{'documents': [{'id': '1', 'keyPhrases': ['capabilities', 'text analytics API', 'demo']}], 'errors': []}\n"
     ]
    }
   ],
   "source": [
    "textapibox=widgets.Text(placeholder='Enter text here',description='Text:',disabled=False)\n",
    "\n",
    "display(textapibox)\n",
    "\n",
    "Text_API_button=widgets.Button(description='Analyze Entities',disabled=False,button_style='info',icon='tick')\n",
    "\n",
    "display(Text_API_button)\n",
    "\n",
    "def call_text_analytics_api(analyze='keyPhrases'):\n",
    "    '''Function to call the Microsoft Text Analytics API'''\n",
    "    subscription_key = '0b28918840f54f54b295a303044224e7' ##Navigate to the subscription key in the text analytics API in the portal and enter key here\n",
    "    assert subscription_key\n",
    "    text_analytics_base_url = \"https://australiaeast.api.cognitive.microsoft.com/text/analytics/v2.0/\" ##Get this from the portal as well\n",
    "    key_phrase_api_url = text_analytics_base_url + \"keyPhrases\"\n",
    "\n",
    "    ##The below is the schema of the text needed\n",
    "\n",
    "    documents = {'documents' : [\n",
    "  {'id': '1', 'text': textapibox.value}\n",
    "    ]}\n",
    "    \n",
    "    headers   = {'Ocp-Apim-Subscription-Key': subscription_key}\n",
    "    response  = requests.post(key_phrase_api_url, headers=headers, json=documents)\n",
    "    key_phrases = response.json()\n",
    "    print(key_phrases)\n",
    "    \n",
    "    \n",
    "def callback(wdgt):\n",
    "    '''Function to callback on press of a device'''\n",
    "    ##This can be added so that the text analytics API is called only after text is entered\n",
    "    #textapibox.on_submit(call_text_analytics_api(analyze='keyPhrases'))\n",
    "    call_text_analytics_api(analyze='keyPhrases')\n",
    "    \n",
    "\n",
    "Text_API_button.on_click(callback)"
   ]
  },
  {
   "cell_type": "markdown",
   "metadata": {},
   "source": [
    "#### Named Entity Recognition Demo"
   ]
  },
  {
   "cell_type": "code",
   "execution_count": 22,
   "metadata": {},
   "outputs": [
    {
     "data": {
      "application/vnd.jupyter.widget-view+json": {
       "model_id": "11ceffaae4cc4318a3c0f62ab25b590f",
       "version_major": 2,
       "version_minor": 0
      },
      "text/html": [
       "<p>Failed to display Jupyter Widget of type <code>Text</code>.</p>\n",
       "<p>\n",
       "  If you're reading this message in the Jupyter Notebook or JupyterLab Notebook, it may mean\n",
       "  that the widgets JavaScript is still loading. If this message persists, it\n",
       "  likely means that the widgets JavaScript library is either not installed or\n",
       "  not enabled. See the <a href=\"https://ipywidgets.readthedocs.io/en/stable/user_install.html\">Jupyter\n",
       "  Widgets Documentation</a> for setup instructions.\n",
       "</p>\n",
       "<p>\n",
       "  If you're reading this message in another frontend (for example, a static\n",
       "  rendering on GitHub or <a href=\"https://nbviewer.jupyter.org/\">NBViewer</a>),\n",
       "  it may mean that your frontend doesn't currently support widgets.\n",
       "</p>\n"
      ],
      "text/plain": [
       "Text(value='', placeholder='A sample text entry')"
      ]
     },
     "metadata": {},
     "output_type": "display_data"
    },
    {
     "data": {
      "application/vnd.jupyter.widget-view+json": {
       "model_id": "cb1bcebb53e94fcabe5a396c20896b4a",
       "version_major": 2,
       "version_minor": 0
      },
      "text/html": [
       "<p>Failed to display Jupyter Widget of type <code>Button</code>.</p>\n",
       "<p>\n",
       "  If you're reading this message in the Jupyter Notebook or JupyterLab Notebook, it may mean\n",
       "  that the widgets JavaScript is still loading. If this message persists, it\n",
       "  likely means that the widgets JavaScript library is either not installed or\n",
       "  not enabled. See the <a href=\"https://ipywidgets.readthedocs.io/en/stable/user_install.html\">Jupyter\n",
       "  Widgets Documentation</a> for setup instructions.\n",
       "</p>\n",
       "<p>\n",
       "  If you're reading this message in another frontend (for example, a static\n",
       "  rendering on GitHub or <a href=\"https://nbviewer.jupyter.org/\">NBViewer</a>),\n",
       "  it may mean that your frontend doesn't currently support widgets.\n",
       "</p>\n"
      ],
      "text/plain": [
       "Button(button_style='info', description='Analyze Entities', icon='tick', style=ButtonStyle())"
      ]
     },
     "metadata": {},
     "output_type": "display_data"
    },
    {
     "name": "stdout",
     "output_type": "stream",
     "text": [
      "\u001b[1m The entered diary entry text is \u001b[0m Microsoft is a good organization led by Satya nadella\n",
      "\u001b[1m Identifying the following named entities in the text...\u001b[0m\n",
      ".\n",
      "['Microsoft', 'Satya']\n"
     ]
    }
   ],
   "source": [
    "textbox=widgets.Text(placeholder='A sample text entry',disabled=False)\n",
    "\n",
    "display(textbox)\n",
    "\n",
    "NER_button=widgets.Button(description='Analyze Entities',disabled=False,button_style='info',icon='tick')\n",
    "\n",
    "display(NER_button)\n",
    "\n",
    "\n",
    "\n",
    "def get_entities(text):\n",
    "    '''Get named entities in text'''\n",
    "    chunked = ne_chunk(pos_tag(word_tokenize(text)))\n",
    "    prev = None\n",
    "    continuous_chunk = []\n",
    "    current_chunk = []\n",
    "    for i in chunked:\n",
    "        if type(i) == Tree:\n",
    "            current_chunk.append(\" \".join([token for token, pos in i.leaves()]))\n",
    "        elif current_chunk:\n",
    "            named_entity = \" \".join(current_chunk)\n",
    "            if named_entity not in continuous_chunk:\n",
    "                continuous_chunk.append(named_entity)\n",
    "                current_chunk = []\n",
    "        else:\n",
    "            continue\n",
    "    return str(continuous_chunk)\n",
    "\n",
    "def callback(wdgt):\n",
    "    '''Function to callback on press of a device'''\n",
    "    \n",
    "    ##a bit of text formatting in the output\n",
    "    \n",
    "    BOLD = '\\033[1m'\n",
    "    #display(({'text':textbox.value,'entities':get_entities(textbox.value)}))\n",
    "    print('\\033[1m The entered diary entry text is \\033[0m',textbox.value)\n",
    "    \n",
    "    print('\\033[1m Identifying the following named entities in the text...\\033[0m\\n.')\n",
    "    print(get_entities(textbox.value))\n",
    "\n",
    "NER_button.on_click(callback)"
   ]
  }
 ],
 "metadata": {
  "kernelspec": {
   "display_name": "Python 3",
   "language": "python",
   "name": "python3"
  }
 },
 "nbformat": 4,
 "nbformat_minor": 2
}
