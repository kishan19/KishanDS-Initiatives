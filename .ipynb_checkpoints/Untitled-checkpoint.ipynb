{
 "cells": [
  {
   "cell_type": "code",
   "execution_count": null,
   "metadata": {},
   "outputs": [],
   "source": [
    "cognitive_services_key=''\n",
    "cognitive_services_endpoint=''\n",
    "\n",
    "from azure.cognitiveservices.vision.computervision import ComputerVisionClient\n",
    "from azure.cognitiveservices.vision.computervision.models import TextOperationStatusCodes\n",
    "from azure.cognitiveservices.vision.computervision.models import TextRecognitionMode\n",
    "from azure.cognitiveservices.vision.computervision.models import VisualFeatureTypes\n",
    "from msrest.authentication import CognitiveServicesCredentials\n",
    "\n",
    "from array import array\n",
    "import os\n",
    "from PIL import Image\n",
    "import sys\n",
    "import time\n",
    "\n",
    "computervision_client = ComputerVisionClient(cognitive_services_endpoint, CognitiveServicesCredentials(cognitive_services_key))"
   ]
  },
  {
   "cell_type": "code",
   "execution_count": null,
   "metadata": {},
   "outputs": [],
   "source": [
    "from azure.storage.blob import *\n",
    "from datetime import datetime, timedelta\n",
    "\n",
    "AZURE_CONTAINER='meme'\n",
    "AZURE_ACC_NAME = 'memedbkish'\n",
    "AZURE_PRIMARY_KEY = 'eHawAHqaLuc1+tFi5G6RyuIktYW9VRfgnMOpQSoH7c6i0YDwc/xloxfF6U5BIQfZDe9uYSAKMztoGtgyGoA/6g=='\n",
    "block_blob_service = BlockBlobService(account_name=AZURE_ACC_NAME, account_key=AZURE_PRIMARY_KEY)\n"
   ]
  },
  {
   "cell_type": "code",
   "execution_count": null,
   "metadata": {},
   "outputs": [],
   "source": [
    "url_list=[]\n",
    "for blob in list(block_blob_service.list_blobs(AZURE_CONTAINER)):\n",
    "    sastoken=(block_blob_service.generate_blob_shared_access_signature(AZURE_CONTAINER,blob.name,BlobPermissions.READ,datetime.utcnow() + timedelta(hours=1)))\n",
    "    url='https://'+str(AZURE_ACC_NAME)+'.blob.core.windows.net/'+str(AZURE_CONTAINER)+'/'+str(blob.name)+'?'+sastoken\n",
    "    url_list.append(url)"
   ]
  },
  {
   "cell_type": "code",
   "execution_count": null,
   "metadata": {},
   "outputs": [],
   "source": [
    "url_list"
   ]
  },
  {
   "cell_type": "code",
   "execution_count": null,
   "metadata": {},
   "outputs": [],
   "source": [
    "description_results=computervision_client.describe_image(url_list[0])\n",
    "\n",
    "for caption in description_results.captions:\n",
    "        print(\"'{}' with confidence {:.2f}%\".format(caption.text, caption.confidence * 100))"
   ]
  },
  {
   "cell_type": "code",
   "execution_count": null,
   "metadata": {},
   "outputs": [],
   "source": [
    "recognize_printed_results = computervision_client.batch_read_file(url_list[2],  raw=True)\n",
    "\n",
    "operation_location_remote = recognize_printed_results.headers[\"Operation-Location\"]\n",
    "# Grab the ID from the URL\n",
    "operation_id = operation_location_remote.split(\"/\")[-1]\n",
    "\n",
    "# Call the \"GET\" API and wait for it to retrieve the results \n",
    "while True:\n",
    "    get_printed_text_results = computervision_client.get_read_operation_result(operation_id)\n",
    "    if get_printed_text_results.status not in ['NotStarted', 'Running']:\n",
    "        break\n",
    "    time.sleep(1)\n",
    "\n",
    "# Print the detected text, line by line\n",
    "if get_printed_text_results.status == TextOperationStatusCodes.succeeded:\n",
    "    for text_result in get_printed_text_results.recognition_results:\n",
    "        for line in text_result.lines:\n",
    "            print(line.text)\n",
    "            print(line.bounding_box)\n",
    "print()"
   ]
  },
  {
   "cell_type": "code",
   "execution_count": null,
   "metadata": {},
   "outputs": [],
   "source": []
  }
 ],
 "metadata": {
  "kernelspec": {
   "display_name": "Python 3",
   "language": "python",
   "name": "python3"
  },
  "language_info": {
   "codemirror_mode": {
    "name": "ipython",
    "version": 3
   },
   "file_extension": ".py",
   "mimetype": "text/x-python",
   "name": "python",
   "nbconvert_exporter": "python",
   "pygments_lexer": "ipython3",
   "version": "3.6.8"
  }
 },
 "nbformat": 4,
 "nbformat_minor": 2
}
